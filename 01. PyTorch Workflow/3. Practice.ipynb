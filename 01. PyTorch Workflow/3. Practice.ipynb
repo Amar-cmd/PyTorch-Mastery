{
 "cells": [
  {
   "cell_type": "markdown",
   "id": "8c742304-85c1-44f8-96a1-39300b61d26b",
   "metadata": {},
   "source": [
    "![title](https://meterpreter.org/wp-content/uploads/2017/12/pytorch-logo-dark-1024x205.png)"
   ]
  },
  {
   "cell_type": "code",
   "execution_count": 1,
   "id": "676aaf10-0a58-4b82-a266-465c93efe60f",
   "metadata": {},
   "outputs": [],
   "source": [
    "import torch\n",
    "import matplotlib.pyplot as plt\n",
    "from pathlib import Path"
   ]
  },
  {
   "cell_type": "code",
   "execution_count": 2,
   "id": "a47a9887-ef9d-4e71-95d8-9eefdffecdc8",
   "metadata": {},
   "outputs": [],
   "source": [
    "from torch import nn"
   ]
  },
  {
   "cell_type": "code",
   "execution_count": 3,
   "id": "1c86c08d-1538-48d8-b97b-8109fbe68df6",
   "metadata": {},
   "outputs": [
    {
     "name": "stdout",
     "output_type": "stream",
     "text": [
      "selected device: cuda\n"
     ]
    }
   ],
   "source": [
    "# Setup device agnostic code\n",
    "device = \"cuda\" if torch.cuda.is_available else 'cpu'\n",
    "print('selected device:', device)"
   ]
  },
  {
   "cell_type": "code",
   "execution_count": 22,
   "id": "b5e431b2-7957-4c82-860f-2c1cd9003ed0",
   "metadata": {},
   "outputs": [
    {
     "data": {
      "text/plain": [
       "(tensor([[0.0000],\n",
       "         [0.0100],\n",
       "         [0.0200],\n",
       "         [0.0300],\n",
       "         [0.0400],\n",
       "         [0.0500],\n",
       "         [0.0600],\n",
       "         [0.0700],\n",
       "         [0.0800],\n",
       "         [0.0900]]),\n",
       " tensor([[0.3000],\n",
       "         [0.3070],\n",
       "         [0.3140],\n",
       "         [0.3210],\n",
       "         [0.3280],\n",
       "         [0.3350],\n",
       "         [0.3420],\n",
       "         [0.3490],\n",
       "         [0.3560],\n",
       "         [0.3630]]))"
      ]
     },
     "execution_count": 22,
     "metadata": {},
     "output_type": "execute_result"
    }
   ],
   "source": [
    "# Creating sample data\n",
    "weight = 0.7 # weight = m\n",
    "bias = 0.3 # bias = c\n",
    "\n",
    "start = 0\n",
    "stop = 1\n",
    "steps = 0.01\n",
    "\n",
    "# Create X and y (features and labels)\n",
    "X = torch.arange(start, stop, steps).unsqueeze(dim=1) # without unsqueeze, errors will happen later on (shapes within linear layers)\n",
    "y = weight * X + bias \n",
    "X[:10], y[:10]"
   ]
  },
  {
   "cell_type": "code",
   "execution_count": 23,
   "id": "470ebff8-729a-49f4-82a2-bbeb48ac24be",
   "metadata": {},
   "outputs": [
    {
     "data": {
      "text/plain": [
       "(80, 80, 20, 20)"
      ]
     },
     "execution_count": 23,
     "metadata": {},
     "output_type": "execute_result"
    }
   ],
   "source": [
    "# Split data\n",
    "train_split = int(0.8 * len(X))\n",
    "X_train, y_train = X[:train_split], y[:train_split]\n",
    "X_test, y_test = X[train_split:], y[train_split:]\n",
    "\n",
    "len(X_train), len(y_train), len(X_test), len(y_test)"
   ]
  },
  {
   "cell_type": "code",
   "execution_count": 24,
   "id": "c9be3463-27ca-40ab-971a-c754cccddf4b",
   "metadata": {},
   "outputs": [],
   "source": [
    "def plot_predictions(train_data=X_train, \n",
    "                     train_labels=y_train, \n",
    "                     test_data=X_test, \n",
    "                     test_labels=y_test, \n",
    "                     predictions=None):\n",
    "  \"\"\"\n",
    "  Plots training data, test data and compares predictions.\n",
    "  \"\"\"\n",
    "  plt.figure(figsize=(10, 7))\n",
    "\n",
    "  # Plot training data in blue\n",
    "  plt.scatter(train_data, train_labels, c=\"b\", s=4, label=\"Training data\")\n",
    "  \n",
    "  # Plot test data in green\n",
    "  plt.scatter(test_data, test_labels, c=\"g\", s=4, label=\"Testing data\")\n",
    "\n",
    "  if predictions is not None:\n",
    "    # Plot the predictions in red (predictions were made on the test data)\n",
    "    plt.scatter(test_data, predictions, c=\"r\", s=4, label=\"Predictions\")\n",
    "\n",
    "  # Show the legend\n",
    "  plt.legend(prop={\"size\": 14});"
   ]
  },
  {
   "cell_type": "code",
   "execution_count": 25,
   "id": "a042d841-d686-4957-b867-233028ed1ab1",
   "metadata": {},
   "outputs": [
    {
     "data": {
      "image/png": "[encoded data removed]",
      "text/plain": [
       "<Figure size 1000x700 with 1 Axes>"
      ]
     },
     "metadata": {},
     "output_type": "display_data"
    }
   ],
   "source": [
    "plot_predictions()"
   ]
  },
  {
   "cell_type": "code",
   "execution_count": 26,
   "id": "717a6539-d149-47a6-b342-96a4f0fb42e7",
   "metadata": {},
   "outputs": [],
   "source": [
    "# Building pytorch linear model\n",
    "class LinearRegressionModel(nn.Module):\n",
    "    def __init__(self):\n",
    "        super().__init__()\n",
    "        self.linear_layer = nn.Linear(in_features=1, out_features=1)\n",
    "    def forward(self, x: torch.tensor) -> torch.tensor:\n",
    "        return self.linear_layer(x)"
   ]
  },
  {
   "cell_type": "code",
   "execution_count": 27,
   "id": "70ed0f4d-8649-44f7-bb4e-0c7f4add8f71",
   "metadata": {},
   "outputs": [],
   "source": [
    "model = LinearRegressionModel()"
   ]
  },
  {
   "cell_type": "code",
   "execution_count": 28,
   "id": "c8aac18d-3d86-4a59-918a-085e13be07dd",
   "metadata": {},
   "outputs": [
    {
     "data": {
      "text/plain": [
       "(LinearRegressionModel(\n",
       "   (linear_layer): Linear(in_features=1, out_features=1, bias=True)\n",
       " ),\n",
       " OrderedDict([('linear_layer.weight', tensor([[-0.3805]])),\n",
       "              ('linear_layer.bias', tensor([0.2354]))]))"
      ]
     },
     "execution_count": 28,
     "metadata": {},
     "output_type": "execute_result"
    }
   ],
   "source": [
    "model, model.state_dict()"
   ]
  },
  {
   "cell_type": "code",
   "execution_count": 29,
   "id": "78a5134a-8ca3-47a0-a034-b2bf80ed5024",
   "metadata": {},
   "outputs": [
    {
     "data": {
      "text/plain": [
       "device(type='cpu')"
      ]
     },
     "execution_count": 29,
     "metadata": {},
     "output_type": "execute_result"
    }
   ],
   "source": [
    "next(model.parameters()).device"
   ]
  },
  {
   "cell_type": "code",
   "execution_count": 30,
   "id": "b3c48672-5bf3-4db8-b4c9-ad9546fb579b",
   "metadata": {},
   "outputs": [
    {
     "data": {
      "text/plain": [
       "device(type='cuda', index=0)"
      ]
     },
     "execution_count": 30,
     "metadata": {},
     "output_type": "execute_result"
    }
   ],
   "source": [
    "model.to(device)\n",
    "next(model.parameters()).device"
   ]
  },
  {
   "cell_type": "code",
   "execution_count": 31,
   "id": "4ffd37e1-f22a-4026-bbd0-ecf1284bac76",
   "metadata": {},
   "outputs": [],
   "source": [
    "# Training\n",
    "loss_fn = nn.L1Loss()\n",
    "optimizer = torch.optim.SGD(params=model.parameters(), lr=0.1)"
   ]
  },
  {
   "cell_type": "code",
   "execution_count": 32,
   "id": "5a4aab91-7948-42cc-8ce3-13d4ec9e6b6d",
   "metadata": {},
   "outputs": [],
   "source": [
    "# Without this, error will happen (not all model/data on device)\n",
    "X_train = X_train.to(device)\n",
    "X_test = X_test.to(device)\n",
    "y_train = y_train.to(device)\n",
    "y_test = y_test.to(device)\n"
   ]
  },
  {
   "cell_type": "code",
   "execution_count": 33,
   "id": "e5bf3d24-1fd2-4534-a55a-d10e70f4338a",
   "metadata": {},
   "outputs": [
    {
     "name": "stdout",
     "output_type": "stream",
     "text": [
      "Epoch: 0 | Train loss: 0.4914136826992035 | Test loss: 0.8962893486022949\n",
      "Epoch: 100 | Train loss: 0.09864677488803864 | Test loss: 0.00327301025390625\n",
      "Epoch: 200 | Train loss: 0.09864677488803864 | Test loss: 0.00327301025390625\n",
      "Epoch: 300 | Train loss: 0.09864677488803864 | Test loss: 0.00327301025390625\n",
      "Epoch: 400 | Train loss: 0.09864677488803864 | Test loss: 0.00327301025390625\n",
      "Epoch: 500 | Train loss: 0.09864677488803864 | Test loss: 0.00327301025390625\n",
      "Epoch: 600 | Train loss: 0.09864677488803864 | Test loss: 0.00327301025390625\n",
      "Epoch: 700 | Train loss: 0.09864677488803864 | Test loss: 0.00327301025390625\n",
      "Epoch: 800 | Train loss: 0.09864677488803864 | Test loss: 0.00327301025390625\n",
      "Epoch: 900 | Train loss: 0.09864677488803864 | Test loss: 0.00327301025390625\n",
      "Epoch: 1000 | Train loss: 0.09864677488803864 | Test loss: 0.00327301025390625\n",
      "Epoch: 1100 | Train loss: 0.09864677488803864 | Test loss: 0.00327301025390625\n",
      "Epoch: 1200 | Train loss: 0.09864677488803864 | Test loss: 0.00327301025390625\n",
      "Epoch: 1300 | Train loss: 0.09864677488803864 | Test loss: 0.00327301025390625\n",
      "Epoch: 1400 | Train loss: 0.09864677488803864 | Test loss: 0.00327301025390625\n",
      "Epoch: 1500 | Train loss: 0.09864677488803864 | Test loss: 0.00327301025390625\n",
      "Epoch: 1600 | Train loss: 0.09864677488803864 | Test loss: 0.00327301025390625\n",
      "Epoch: 1700 | Train loss: 0.09864677488803864 | Test loss: 0.00327301025390625\n",
      "Epoch: 1800 | Train loss: 0.09864677488803864 | Test loss: 0.00327301025390625\n",
      "Epoch: 1900 | Train loss: 0.09864677488803864 | Test loss: 0.00327301025390625\n",
      "Epoch: 2000 | Train loss: 0.09864677488803864 | Test loss: 0.00327301025390625\n",
      "Epoch: 2100 | Train loss: 0.09864677488803864 | Test loss: 0.00327301025390625\n",
      "Epoch: 2200 | Train loss: 0.09864677488803864 | Test loss: 0.00327301025390625\n",
      "Epoch: 2300 | Train loss: 0.09864677488803864 | Test loss: 0.00327301025390625\n",
      "Epoch: 2400 | Train loss: 0.09864677488803864 | Test loss: 0.00327301025390625\n",
      "Epoch: 2500 | Train loss: 0.09864677488803864 | Test loss: 0.00327301025390625\n",
      "Epoch: 2600 | Train loss: 0.09864677488803864 | Test loss: 0.00327301025390625\n",
      "Epoch: 2700 | Train loss: 0.09864677488803864 | Test loss: 0.00327301025390625\n",
      "Epoch: 2800 | Train loss: 0.09864677488803864 | Test loss: 0.00327301025390625\n",
      "Epoch: 2900 | Train loss: 0.09864677488803864 | Test loss: 0.00327301025390625\n",
      "Epoch: 3000 | Train loss: 0.09864677488803864 | Test loss: 0.00327301025390625\n",
      "Epoch: 3100 | Train loss: 0.09864677488803864 | Test loss: 0.00327301025390625\n",
      "Epoch: 3200 | Train loss: 0.09864677488803864 | Test loss: 0.00327301025390625\n",
      "Epoch: 3300 | Train loss: 0.09864677488803864 | Test loss: 0.00327301025390625\n",
      "Epoch: 3400 | Train loss: 0.09864677488803864 | Test loss: 0.00327301025390625\n",
      "Epoch: 3500 | Train loss: 0.09864677488803864 | Test loss: 0.00327301025390625\n",
      "Epoch: 3600 | Train loss: 0.09864677488803864 | Test loss: 0.00327301025390625\n",
      "Epoch: 3700 | Train loss: 0.09864677488803864 | Test loss: 0.00327301025390625\n",
      "Epoch: 3800 | Train loss: 0.09864677488803864 | Test loss: 0.00327301025390625\n",
      "Epoch: 3900 | Train loss: 0.09864677488803864 | Test loss: 0.00327301025390625\n"
     ]
    }
   ],
   "source": [
    "\n",
    "# Set the number of epochs \n",
    "epochs = 4000 \n",
    "\n",
    "# Put data on the available device\n",
    "\n",
    "for epoch in range(epochs):\n",
    "    ### Training\n",
    "    model.train() # train mode is on by default after construction\n",
    "\n",
    "    # 1. Forward pass\n",
    "    y_pred = model(X_train)\n",
    "\n",
    "    # 2. Calculate loss\n",
    "    loss = loss_fn(y_pred, y_train)\n",
    "\n",
    "    # 3. Zero grad optimizer\n",
    "    optimizer.zero_grad()\n",
    "\n",
    "    # 4. Loss backward\n",
    "    loss.backward()\n",
    "\n",
    "    # 5. Step the optimizer\n",
    "    optimizer.step()\n",
    "\n",
    "    ### Testing\n",
    "    model.eval() # put the model in evaluation mode for testing (inference)\n",
    "    # 1. Forward pass\n",
    "    with torch.inference_mode():\n",
    "        test_pred = model(X_test)\n",
    "    \n",
    "        # 2. Calculate the loss\n",
    "        test_loss = loss_fn(test_pred, y_test)\n",
    "\n",
    "    if epoch % 100 == 0:\n",
    "        print(f\"Epoch: {epoch} | Train loss: {loss} | Test loss: {test_loss}\")"
   ]
  },
  {
   "cell_type": "code",
   "execution_count": 34,
   "id": "4962a162-666b-4c5c-a7a1-8cb9bd44f30a",
   "metadata": {},
   "outputs": [
    {
     "data": {
      "text/plain": [
       "tensor([[0.7290],\n",
       "        [0.7352],\n",
       "        [0.7414],\n",
       "        [0.7476],\n",
       "        [0.7539],\n",
       "        [0.7601],\n",
       "        [0.7663],\n",
       "        [0.7725],\n",
       "        [0.7787],\n",
       "        [0.7849],\n",
       "        [0.7911],\n",
       "        [0.7973],\n",
       "        [0.8035],\n",
       "        [0.8097],\n",
       "        [0.8159],\n",
       "        [0.8221],\n",
       "        [0.8283],\n",
       "        [0.8345],\n",
       "        [0.8407],\n",
       "        [0.8469]], device='cuda:0')"
      ]
     },
     "execution_count": 34,
     "metadata": {},
     "output_type": "execute_result"
    }
   ],
   "source": [
    "# Making Predictions\n",
    "model.eval()\n",
    "with torch.inference_mode():\n",
    "    y_preds = model(X_test)\n",
    "y_preds"
   ]
  },
  {
   "cell_type": "code",
   "execution_count": 35,
   "id": "e48abd92-d556-48ec-9a7a-4c41e6663351",
   "metadata": {},
   "outputs": [
    {
     "data": {
      "image/png": "[encoded data removed]",
      "text/plain": [
       "<Figure size 1000x700 with 1 Axes>"
      ]
     },
     "metadata": {},
     "output_type": "display_data"
    }
   ],
   "source": [
    "plot_predictions(predictions=y_preds.cpu())"
   ]
  },
  {
   "cell_type": "code",
   "execution_count": 36,
   "id": "b682aa39-8f4a-4620-bb84-e0dcaf16c6ba",
   "metadata": {},
   "outputs": [
    {
     "name": "stdout",
     "output_type": "stream",
     "text": [
      "Model\\model_1.pth\n"
     ]
    }
   ],
   "source": [
    "# Save model\n",
    "MODEL_PATH = Path('Model')\n",
    "MODEL_PATH.mkdir(parents=True, exist_ok=True)\n",
    "MODEL_NAME = 'model_1.pth'\n",
    "MODEL_SAVE_PATH = MODEL_PATH / MODEL_NAME\n",
    "\n",
    "print(MODEL_SAVE_PATH)\n",
    "torch.save(obj=model.state_dict(), f=MODEL_SAVE_PATH)"
   ]
  },
  {
   "cell_type": "code",
   "execution_count": 38,
   "id": "554fec11-e759-483d-ac89-0cf1ed098ac1",
   "metadata": {},
   "outputs": [
    {
     "name": "stdout",
     "output_type": "stream",
     "text": [
      "Loaded model:\n",
      "LinearRegressionModel(\n",
      "  (linear_layer): Linear(in_features=1, out_features=1, bias=True)\n",
      ")\n",
      "Model on device:\n",
      "cuda:0\n"
     ]
    }
   ],
   "source": [
    "# Load Model\n",
    "loaded_model = LinearRegressionModel()\n",
    "loaded_model.load_state_dict(torch.load(MODEL_SAVE_PATH))\n",
    "\n",
    "loaded_model.to(device)\n",
    "print(f\"Loaded model:\\n{loaded_model}\")\n",
    "print(f\"Model on device:\\n{next(loaded_model.parameters()).device}\")"
   ]
  },
  {
   "cell_type": "code",
   "execution_count": 39,
   "id": "cb46eca5-6bc0-4209-b5ba-94df674d879b",
   "metadata": {},
   "outputs": [
    {
     "data": {
      "text/plain": [
       "tensor([[True],\n",
       "        [True],\n",
       "        [True],\n",
       "        [True],\n",
       "        [True],\n",
       "        [True],\n",
       "        [True],\n",
       "        [True],\n",
       "        [True],\n",
       "        [True],\n",
       "        [True],\n",
       "        [True],\n",
       "        [True],\n",
       "        [True],\n",
       "        [True],\n",
       "        [True],\n",
       "        [True],\n",
       "        [True],\n",
       "        [True],\n",
       "        [True]], device='cuda:0')"
      ]
     },
     "execution_count": 39,
     "metadata": {},
     "output_type": "execute_result"
    }
   ],
   "source": [
    "loaded_model.eval()\n",
    "with torch.inference_mode():\n",
    "    loaded_model_preds = loaded_model(X_test)\n",
    "y_preds == loaded_model_preds"
   ]
  },
  {
   "cell_type": "code",
   "execution_count": 40,
   "id": "87ecb7f3-bbaf-4c94-a2b4-8be3463d69e6",
   "metadata": {},
   "outputs": [
    {
     "data": {
      "image/png": "[encoded data removed]",
      "text/plain": [
       "<Figure size 1000x700 with 1 Axes>"
      ]
     },
     "metadata": {},
     "output_type": "display_data"
    }
   ],
   "source": [
    "plot_predictions(predictions=loaded_model_preds.cpu())"
   ]
  },
  {
   "cell_type": "code",
   "execution_count": null,
   "id": "35a83fc4-ccec-4980-b6ea-7d0662324c51",
   "metadata": {},
   "outputs": [],
   "source": []
  }
 ],
 "metadata": {
  "kernelspec": {
   "display_name": "Python 3 (ipykernel)",
   "language": "python",
   "name": "python3"
  },
  "language_info": {
   "codemirror_mode": {
    "name": "ipython",
    "version": 3
   },
   "file_extension": ".py",
   "mimetype": "text/x-python",
   "name": "python",
   "nbconvert_exporter": "python",
   "pygments_lexer": "ipython3",
   "version": "3.12.1"
  }
 },
 "nbformat": 4,
 "nbformat_minor": 5
}
