{
 "cells": [
  {
   "cell_type": "markdown",
   "id": "dcd0e3cf-f37f-492b-ae1b-81326a66adb9",
   "metadata": {},
   "source": [
    "![title](https://meterpreter.org/wp-content/uploads/2017/12/pytorch-logo-dark-1024x205.png)"
   ]
  },
  {
   "cell_type": "code",
   "execution_count": 1,
   "id": "f50bf648-1399-482f-8588-8303f6c6cf62",
   "metadata": {},
   "outputs": [],
   "source": [
    "import torch"
   ]
  },
  {
   "cell_type": "code",
   "execution_count": 2,
   "id": "8132f52e-5aa4-4def-ac26-eedf1b2df15d",
   "metadata": {},
   "outputs": [],
   "source": [
    "import matplotlib.pyplot as plt"
   ]
  },
  {
   "cell_type": "markdown",
   "id": "b398ad10-8a17-440a-9044-7692f19d6e3e",
   "metadata": {},
   "source": [
    "# Data (preparing and loading)"
   ]
  },
  {
   "cell_type": "markdown",
   "id": "16c4d29c-cc7e-4b93-9870-956445369932",
   "metadata": {},
   "source": [
    "We'll use linear regression to create the data with known parameters (things that can be learned by a model) and then we'll use PyTorch to see if we can build model to estimate these parameters using gradient descent."
   ]
  },
  {
   "cell_type": "code",
   "execution_count": 3,
   "id": "379567f2-6f04-4cdd-9a6d-ba5c6a895308",
   "metadata": {},
   "outputs": [],
   "source": [
    "weight = 0.7\n",
    "bias = 0.3\n",
    "\n",
    "# create data\n",
    "start = 0\n",
    "end = 1\n",
    "steps = 0.02\n",
    "\n",
    "X = torch.arange(start, end, steps).unsqueeze(1)\n",
    "y = weight * X + bias"
   ]
  },
  {
   "cell_type": "code",
   "execution_count": 4,
   "id": "c4fe5557-ac4e-4ccd-b8b5-b10ff2a8bb5d",
   "metadata": {},
   "outputs": [
    {
     "data": {
      "text/plain": [
       "(tensor([[0.0000],\n",
       "         [0.0200],\n",
       "         [0.0400],\n",
       "         [0.0600],\n",
       "         [0.0800],\n",
       "         [0.1000],\n",
       "         [0.1200],\n",
       "         [0.1400],\n",
       "         [0.1600],\n",
       "         [0.1800]]),\n",
       " tensor([[0.3000],\n",
       "         [0.3140],\n",
       "         [0.3280],\n",
       "         [0.3420],\n",
       "         [0.3560],\n",
       "         [0.3700],\n",
       "         [0.3840],\n",
       "         [0.3980],\n",
       "         [0.4120],\n",
       "         [0.4260]]))"
      ]
     },
     "execution_count": 4,
     "metadata": {},
     "output_type": "execute_result"
    }
   ],
   "source": [
    "X[:10], y[:10]"
   ]
  },
  {
   "cell_type": "code",
   "execution_count": 5,
   "id": "553d113a-a632-4673-8a9c-c6d801626a8f",
   "metadata": {},
   "outputs": [
    {
     "data": {
      "text/plain": [
       "(50, 50)"
      ]
     },
     "execution_count": 5,
     "metadata": {},
     "output_type": "execute_result"
    }
   ],
   "source": [
    "len(X), len(y)"
   ]
  },
  {
   "cell_type": "markdown",
   "id": "90d21a46-041a-436f-8f07-cfe541e10219",
   "metadata": {},
   "source": [
    "### Split data into training and test sets"
   ]
  },
  {
   "cell_type": "markdown",
   "id": "aad42e8e-1fcd-417e-9b8d-1f76abc6b4d2",
   "metadata": {},
   "source": [
    "<table>\n",
    "  <tr>\n",
    "    <th>Split</th>\n",
    "    <th>Purpose</th>\n",
    "    <th>Amount of total data</th>\n",
    "    <th>How often is it used?</th>\n",
    "\n",
    "  </tr>\n",
    "  <tr>\n",
    "    <td>Training set</td>\n",
    "    <td>The model learns from this data (like the course materials you study during the semester).</td>\n",
    "    <td>~60-80%</td>\n",
    "          <td>Always</td>\n",
    "  </tr>\n",
    "  <tr>\n",
    "    <td>Validation set</td>\n",
    "    <td>The model gets tuned on this data (like the practice exam you take before the final exam)</td>\n",
    "    <td>~10-20%</td>\n",
    "    <td>Often but not always</td>\n",
    "  </tr>  \n",
    "  \n",
    "  <tr>\n",
    "    <td>Testing set</td>\n",
    "    <td>The model gets evaluated on this data to test what it has learned (like the final exam you take at the end of the semester).</td>\n",
    "    <td>~10-20%</td>\n",
    "    <td>Always</td>\n",
    "  </tr>\n",
    "</table>"
   ]
  },
  {
   "cell_type": "code",
   "execution_count": 6,
   "id": "c6a43831-5fc1-427c-a3e1-300311b2c7ff",
   "metadata": {},
   "outputs": [
    {
     "data": {
      "text/plain": [
       "(40, 40, 10, 10)"
      ]
     },
     "execution_count": 6,
     "metadata": {},
     "output_type": "execute_result"
    }
   ],
   "source": [
    "# Create train/test split\n",
    "train_split = int(0.8 * len(X))\n",
    "\n",
    "X_train, y_train = X[:train_split], y[:train_split]\n",
    "X_test, y_test = X[train_split:], y[train_split:]\n",
    "\n",
    "len(X_train), len(y_train), len(X_test), len(y_test)\n"
   ]
  },
  {
   "cell_type": "code",
   "execution_count": 7,
   "id": "0bc7ee8b-ddab-44dc-b36e-4619050f4d75",
   "metadata": {},
   "outputs": [],
   "source": [
    "def plot_predictions(train_data=X_train, \n",
    "                     train_labels=y_train, \n",
    "                     test_data=X_test, \n",
    "                     test_labels=y_test, \n",
    "                     predictions=None):\n",
    "  \"\"\"\n",
    "  Plots training data, test data and compares predictions.\n",
    "  \"\"\"\n",
    "  plt.figure(figsize=(10, 7))\n",
    "\n",
    "  # Plot training data in blue\n",
    "  plt.scatter(train_data, train_labels, c=\"b\", s=4, label=\"Training data\")\n",
    "  \n",
    "  # Plot test data in green\n",
    "  plt.scatter(test_data, test_labels, c=\"g\", s=4, label=\"Testing data\")\n",
    "\n",
    "  if predictions is not None:\n",
    "    # Plot the predictions in red (predictions were made on the test data)\n",
    "    plt.scatter(test_data, predictions, c=\"r\", s=4, label=\"Predictions\")\n",
    "\n",
    "  # Show the legend\n",
    "  plt.legend(prop={\"size\": 14});"
   ]
  },
  {
   "cell_type": "code",
   "execution_count": 8,
   "id": "f1728a29-edb5-4a35-8cbb-d3154da33b02",
   "metadata": {},
   "outputs": [
    {
     "data": {
      "image/png": "[encoded data removed]",
      "text/plain": [
       "<Figure size 1000x700 with 1 Axes>"
      ]
     },
     "metadata": {},
     "output_type": "display_data"
    }
   ],
   "source": [
    "plot_predictions();"
   ]
  },
  {
   "cell_type": "markdown",
   "id": "df934805-cc28-4210-89eb-04f8664741df",
   "metadata": {},
   "source": [
    "# Build model"
   ]
  },
  {
   "cell_type": "code",
   "execution_count": 9,
   "id": "dc730c20-4d7d-40af-bb8d-b0b00cf56b0a",
   "metadata": {},
   "outputs": [],
   "source": [
    "from torch import nn"
   ]
  },
  {
   "cell_type": "code",
   "execution_count": 10,
   "id": "2ffb5317-0dc9-4a2e-9344-5be45816cf86",
   "metadata": {},
   "outputs": [],
   "source": [
    "class LinearRegressionModel(nn.Module):\n",
    "    def __init__(self):\n",
    "        super().__init__()\n",
    "        self.weights = nn.Parameter(torch.randn(1, dtype = torch.float), requires_grad=True)\n",
    "        self.bias = nn.Parameter(torch.randn(1, dtype = torch.float), requires_grad=True)\n",
    "\n",
    "    def forward(self, x: torch.Tensor) -> torch.Tensor:\n",
    "        return self.weights * x + self.bias\n",
    "        "
   ]
  },
  {
   "cell_type": "markdown",
   "id": "c29efa0b-fabc-4da2-9b40-50d19b8e7474",
   "metadata": {},
   "source": [
    "#### PyTorch model building essentials\n",
    "\n",
    "PyTorch has four (give or take) essential modules you can use to create almost any kind of neural network you can imagine.\n",
    "They are:\n",
    "- torch.nn\n",
    "- torch.optim\n",
    "- torch.utils.data.Dataset and \n",
    "- torch.utils.data.DataLoader."
   ]
  },
  {
   "cell_type": "markdown",
   "id": "e9b42d35-35a1-45a5-a036-42e86d39f489",
   "metadata": {},
   "source": [
    "<table>\n",
    "  <tr>\n",
    "    <th>PyTorch module</th>\n",
    "    <th>What does it do?</th>\n",
    "\n",
    "  </tr>\n",
    "  <tr>\n",
    "    <td><b>torch.nn</b></td>\n",
    "    <td>Contains all of the building blocks for computational graphs (essentially a series of computations executed in a particular way).</td>\n",
    "    \n",
    "  </tr>\n",
    "  <tr>\n",
    "    <td><b>torch.nn.Parameter</b></td>\n",
    "    <td>Stores tensors that can be used with nn.Module. If requires_grad=True gradients (used for updating model parameters via gradient descent) are calculated automatically, this is often referred to as \"autograd\".</td>\n",
    "   \n",
    "  </tr>  \n",
    "  \n",
    "  <tr>\n",
    "    <td><b>torch.nn.Module</b></td>\n",
    "    <td>The base class for all neural network modules, all the building blocks for neural networks are subclasses. If you're building a neural network in PyTorch, your models should subclass nn.Module. Requires a forward() method be implemented.</td>\n",
    "  </tr>\n",
    "\n",
    "   <tr>\n",
    "    <td><b>torch.optim</b></td>\n",
    "    <td>Contains various optimization algorithms (these tell the model parameters stored in nn.Parameter how to best change to improve gradient descent and in turn reduce the loss).</td>\n",
    "  </tr>\n",
    "\n",
    "   <tr>\n",
    "    <td><b>def forward()</b></td>\n",
    "    <td>All nn.Module subclasses require a forward() method, this defines the computation that will take place on the data passed to the particular nn.Module (e.g. the linear regression formula above).</td>\n",
    "  </tr>\n",
    "</table>"
   ]
  },
  {
   "cell_type": "markdown",
   "id": "7b3a51c7-ae4b-4e8b-a225-39a25ef695ad",
   "metadata": {},
   "source": [
    "![title](https://raw.githubusercontent.com/mrdbourke/pytorch-deep-learning/main/images/01-pytorch-linear-model-annotated.png)"
   ]
  },
  {
   "cell_type": "code",
   "execution_count": 11,
   "id": "7a83c1de-0741-41bb-9bfe-89a00f1f7f97",
   "metadata": {},
   "outputs": [],
   "source": [
    "# Create an instance of the model (this is a subclass of nn.Module that contains nn.Parameter(s))\n",
    "model_0 = LinearRegressionModel()"
   ]
  },
  {
   "cell_type": "code",
   "execution_count": 12,
   "id": "a1300f5c-6bfc-44c6-ae8c-b8de9db6fab7",
   "metadata": {},
   "outputs": [
    {
     "data": {
      "text/plain": [
       "OrderedDict([('weights', tensor([0.4874])), ('bias', tensor([0.7754]))])"
      ]
     },
     "execution_count": 12,
     "metadata": {},
     "output_type": "execute_result"
    }
   ],
   "source": [
    "# List named parameters \n",
    "model_0.state_dict()"
   ]
  },
  {
   "cell_type": "markdown",
   "id": "872cf4f6-1389-4634-b88b-fbef9bfcada9",
   "metadata": {},
   "source": [
    "### Making predictions using `torch.inference_mode()`"
   ]
  },
  {
   "cell_type": "code",
   "execution_count": 13,
   "id": "106fe889-413f-40c6-940d-192490b6da2d",
   "metadata": {},
   "outputs": [],
   "source": [
    "# Make predictions with model\n",
    "with torch.inference_mode(): \n",
    "    y_preds = model_0(X_test)"
   ]
  },
  {
   "cell_type": "markdown",
   "id": "f214ec1d-30b4-4c1c-9efa-e3f054f7a6e1",
   "metadata": {},
   "source": [
    "## INFERENCE_MODE\n",
    "InferenceMode is a new context manager analogous to no_grad to be used when you are certain your operations will have no interactions with autograd (e.g., model training). Code run under this mode gets better performance by disabling view tracking and version counter bumps."
   ]
  },
  {
   "cell_type": "code",
   "execution_count": 14,
   "id": "005fdfb5-ce95-42b3-868c-e2f951fa8f50",
   "metadata": {},
   "outputs": [
    {
     "name": "stdout",
     "output_type": "stream",
     "text": [
      "Number of testing samples: 10\n",
      "Number of predictions made: 10\n",
      "Predicted values:\n",
      "tensor([[1.1653],\n",
      "        [1.1750],\n",
      "        [1.1848],\n",
      "        [1.1945],\n",
      "        [1.2043],\n",
      "        [1.2140],\n",
      "        [1.2238],\n",
      "        [1.2335],\n",
      "        [1.2433],\n",
      "        [1.2530]])\n"
     ]
    }
   ],
   "source": [
    "# Check the predictions\n",
    "print(f\"Number of testing samples: {len(X_test)}\") \n",
    "print(f\"Number of predictions made: {len(y_preds)}\")\n",
    "print(f\"Predicted values:\\n{y_preds}\")"
   ]
  },
  {
   "cell_type": "code",
   "execution_count": 15,
   "id": "b54209f4-4fa0-4540-a9b9-0a8ea84e3152",
   "metadata": {},
   "outputs": [
    {
     "data": {
      "image/png": "[encoded data removed]",
      "text/plain": [
       "<Figure size 1000x700 with 1 Axes>"
      ]
     },
     "metadata": {},
     "output_type": "display_data"
    }
   ],
   "source": [
    "plot_predictions(predictions=y_preds)"
   ]
  },
  {
   "cell_type": "markdown",
   "id": "1e62124a-5b8e-4652-b1dc-b86f64855039",
   "metadata": {},
   "source": [
    "Things we need to train the model are:\n",
    "- Loss Function\n",
    "- Optimizer\n",
    "- Training Loop (particular to pytorch)\n",
    "- Testing Loop (particular to pytorch)"
   ]
  },
  {
   "cell_type": "markdown",
   "id": "889c25f0-d357-43e2-9dc4-b36fba505cc9",
   "metadata": {},
   "source": [
    "<table>\n",
    "  <tr>\n",
    "    <th>Function</th>\n",
    "    <th>What does it do?</th>\n",
    "    <th>Where does it live in PyTorch?</th>\n",
    "          <th>Common values</th>\n",
    "\n",
    "  </tr>\n",
    "  <tr>\n",
    "    <td>Loss function</td>\n",
    "    <td>Measures how wrong your models predictions (e.g. y_preds) are compared to the truth labels (e.g. y_test). Lower the better.</td>\n",
    "    <td>PyTorch has plenty of built-in loss functions in torch.nn</td>\n",
    "    <td>Mean absolute error (MAE) for regression problems (torch.nn.L1Loss()). Binary cross entropy for binary classification problems (torch.nn.BCELoss()).</td>\n",
    "  </tr>\n",
    "  <tr>\n",
    "    <td>Optimizer</td>\n",
    "    <td>Tells your model how to update its internal parameters to best lower the loss.</td>\n",
    "    <td>You can find various optimization function implementations in torch.optim.</td>\n",
    "    <td>Stochastic gradient descent (torch.optim.SGD()). Adam optimizer (torch.optim.Adam()).</td>\n",
    "  </tr>\n",
    "</table>"
   ]
  },
  {
   "cell_type": "code",
   "execution_count": 16,
   "id": "8cfdfd82-44c3-4205-884f-a274d37f9d55",
   "metadata": {},
   "outputs": [],
   "source": [
    "#setup loss function and optimizer\n",
    "# Create the loss function\n",
    "loss_fn = nn.L1Loss() # MAE loss is same as L1Loss\n",
    "\n",
    "# Create the optimizer\n",
    "optimizer = torch.optim.SGD(params=model_0.parameters(), # parameters of target model to optimize\n",
    "                            lr=0.01) # learning rate (how much the optimizer should change parameters at each step, higher=more (less stable), lower=less (might take a long time))"
   ]
  },
  {
   "cell_type": "markdown",
   "id": "1252ca90-990a-4c6a-a3f2-f33ba64ee921",
   "metadata": {},
   "source": [
    "### PyTorch training loop\n",
    "For the training loop, we'll build the following steps:\n",
    "\n",
    "<table border=\"1\">\r\n",
    "    <tr>\r\n",
    "        <th>Number</th>\r\n",
    "        <th>Step Name</th>\r\n",
    "        <th>What Does It Do?</th>\r\n",
    "        <th>Code Example</th>\r\n",
    "    </tr>\r\n",
    "    <tr>\r\n",
    "        <td>1</td>\r\n",
    "        <td>Forward pass</td>\r\n",
    "        <td>The model goes through all of the training data once, performing its forward() function calculations.</td>\r\n",
    "        <td><code>model(x_train)</code></td>\r\n",
    "    </tr>\r\n",
    "    <tr>\r\n",
    "        <td>2</td>\r\n",
    "        <td>Calculate the loss</td>\r\n",
    "        <td>The model's outputs (predictions) are compared to the ground truth and evaluated to see how wrong they are.</td>\r\n",
    "        <td><code>loss = loss_fn(y_pred, y_train)</code></td>\r\n",
    "    </tr>\r\n",
    "    <tr>\r\n",
    "        <td>3</td>\r\n",
    "        <td>Zero gradients</td>\r\n",
    "        <td>The optimizer's gradients are set to zero (they are accumulated by default) so they can be recalculated for the specific training step.</td>\r\n",
    "        <td><code>optimizer.zero_grad()</code></td>\r\n",
    "    </tr>\r\n",
    "    <tr>\r\n",
    "        <td>4</td>\r\n",
    "        <td>Perform backpropagation on the loss</td>\r\n",
    "        <td>Computes the gradient of the loss with respect for every model parameter to be updated (each parameter with requires_grad=True). This is known as backpropagation, hence \"backwards\".</td>\r\n",
    "        <td><code>loss.backward()</code></td>\r\n",
    "    </tr>\r\n",
    "    <tr>\r\n",
    "        <td>5</td>\r\n",
    "        <td>Update the optimizer (gradient descent)</td>\r\n",
    "        <td>Update the parameters with requires_grad=True with respect to the loss gradients in order to improve them.</td>\r\n",
    "        <td><code>optimizer.step()</code></td>\r\n",
    "    </tr>\r\n",
    "</table>\r\n",
    "e>"
   ]
  },
  {
   "cell_type": "code",
   "execution_count": 29,
   "id": "78da42bf-de74-4b26-bd0e-68f92ca1c7c5",
   "metadata": {},
   "outputs": [
    {
     "name": "stdout",
     "output_type": "stream",
     "text": [
      "Epoch: 0 | MAE Train Loss: 0.043739330023527145 | MAE Test Loss: 0.10120339691638947\n",
      "Epoch: 10 | MAE Train Loss: 0.04030957818031311 | MAE Test Loss: 0.09361772239208221\n",
      "Epoch: 20 | MAE Train Loss: 0.03687451779842377 | MAE Test Loss: 0.08534518629312515\n",
      "Epoch: 30 | MAE Train Loss: 0.033436086028814316 | MAE Test Loss: 0.0777595192193985\n",
      "Epoch: 40 | MAE Train Loss: 0.030007636174559593 | MAE Test Loss: 0.06948696821928024\n",
      "Epoch: 50 | MAE Train Loss: 0.026570897549390793 | MAE Test Loss: 0.06121443957090378\n",
      "Epoch: 60 | MAE Train Loss: 0.023134151473641396 | MAE Test Loss: 0.053628791123628616\n",
      "Epoch: 70 | MAE Train Loss: 0.01970571093261242 | MAE Test Loss: 0.04535623639822006\n",
      "Epoch: 80 | MAE Train Loss: 0.01626727357506752 | MAE Test Loss: 0.0370836965739727\n",
      "Epoch: 90 | MAE Train Loss: 0.012832221575081348 | MAE Test Loss: 0.02949804626405239\n",
      "Epoch: 100 | MAE Train Loss: 0.00940246507525444 | MAE Test Loss: 0.02122550643980503\n",
      "Epoch: 110 | MAE Train Loss: 0.005963658448308706 | MAE Test Loss: 0.012952953577041626\n",
      "Epoch: 120 | MAE Train Loss: 0.002530287252739072 | MAE Test Loss: 0.005367291159927845\n",
      "Epoch: 130 | MAE Train Loss: 0.003999481443315744 | MAE Test Loss: 0.011873727664351463\n",
      "Epoch: 140 | MAE Train Loss: 0.003999481443315744 | MAE Test Loss: 0.011873727664351463\n",
      "Epoch: 150 | MAE Train Loss: 0.003999481443315744 | MAE Test Loss: 0.011873727664351463\n",
      "Epoch: 160 | MAE Train Loss: 0.003999481443315744 | MAE Test Loss: 0.011873727664351463\n",
      "Epoch: 170 | MAE Train Loss: 0.003999481443315744 | MAE Test Loss: 0.011873727664351463\n",
      "Epoch: 180 | MAE Train Loss: 0.003999481443315744 | MAE Test Loss: 0.011873727664351463\n",
      "Epoch: 190 | MAE Train Loss: 0.003999481443315744 | MAE Test Loss: 0.011873727664351463\n",
      "Epoch: 200 | MAE Train Loss: 0.003999481443315744 | MAE Test Loss: 0.011873727664351463\n",
      "Epoch: 210 | MAE Train Loss: 0.003999481443315744 | MAE Test Loss: 0.011873727664351463\n",
      "Epoch: 220 | MAE Train Loss: 0.003999481443315744 | MAE Test Loss: 0.011873727664351463\n",
      "Epoch: 230 | MAE Train Loss: 0.003999481443315744 | MAE Test Loss: 0.011873727664351463\n",
      "Epoch: 240 | MAE Train Loss: 0.003999481443315744 | MAE Test Loss: 0.011873727664351463\n",
      "Epoch: 250 | MAE Train Loss: 0.003999481443315744 | MAE Test Loss: 0.011873727664351463\n",
      "Epoch: 260 | MAE Train Loss: 0.003999481443315744 | MAE Test Loss: 0.011873727664351463\n",
      "Epoch: 270 | MAE Train Loss: 0.003999481443315744 | MAE Test Loss: 0.011873727664351463\n",
      "Epoch: 280 | MAE Train Loss: 0.003999481443315744 | MAE Test Loss: 0.011873727664351463\n",
      "Epoch: 290 | MAE Train Loss: 0.003999481443315744 | MAE Test Loss: 0.011873727664351463\n",
      "Epoch: 300 | MAE Train Loss: 0.003999481443315744 | MAE Test Loss: 0.011873727664351463\n",
      "Epoch: 310 | MAE Train Loss: 0.003999481443315744 | MAE Test Loss: 0.011873727664351463\n",
      "Epoch: 320 | MAE Train Loss: 0.003999481443315744 | MAE Test Loss: 0.011873727664351463\n",
      "Epoch: 330 | MAE Train Loss: 0.003999481443315744 | MAE Test Loss: 0.011873727664351463\n",
      "Epoch: 340 | MAE Train Loss: 0.003999481443315744 | MAE Test Loss: 0.011873727664351463\n",
      "Epoch: 350 | MAE Train Loss: 0.003999481443315744 | MAE Test Loss: 0.011873727664351463\n",
      "Epoch: 360 | MAE Train Loss: 0.003999481443315744 | MAE Test Loss: 0.011873727664351463\n",
      "Epoch: 370 | MAE Train Loss: 0.003999481443315744 | MAE Test Loss: 0.011873727664351463\n",
      "Epoch: 380 | MAE Train Loss: 0.003999481443315744 | MAE Test Loss: 0.011873727664351463\n",
      "Epoch: 390 | MAE Train Loss: 0.003999481443315744 | MAE Test Loss: 0.011873727664351463\n",
      "Epoch: 400 | MAE Train Loss: 0.003999481443315744 | MAE Test Loss: 0.011873727664351463\n",
      "Epoch: 410 | MAE Train Loss: 0.003999481443315744 | MAE Test Loss: 0.011873727664351463\n",
      "Epoch: 420 | MAE Train Loss: 0.003999481443315744 | MAE Test Loss: 0.011873727664351463\n",
      "Epoch: 430 | MAE Train Loss: 0.003999481443315744 | MAE Test Loss: 0.011873727664351463\n",
      "Epoch: 440 | MAE Train Loss: 0.003999481443315744 | MAE Test Loss: 0.011873727664351463\n",
      "Epoch: 450 | MAE Train Loss: 0.003999481443315744 | MAE Test Loss: 0.011873727664351463\n",
      "Epoch: 460 | MAE Train Loss: 0.003999481443315744 | MAE Test Loss: 0.011873727664351463\n",
      "Epoch: 470 | MAE Train Loss: 0.003999481443315744 | MAE Test Loss: 0.011873727664351463\n",
      "Epoch: 480 | MAE Train Loss: 0.003999481443315744 | MAE Test Loss: 0.011873727664351463\n",
      "Epoch: 490 | MAE Train Loss: 0.003999481443315744 | MAE Test Loss: 0.011873727664351463\n",
      "Epoch: 500 | MAE Train Loss: 0.003999481443315744 | MAE Test Loss: 0.011873727664351463\n",
      "Epoch: 510 | MAE Train Loss: 0.003999481443315744 | MAE Test Loss: 0.011873727664351463\n",
      "Epoch: 520 | MAE Train Loss: 0.003999481443315744 | MAE Test Loss: 0.011873727664351463\n",
      "Epoch: 530 | MAE Train Loss: 0.003999481443315744 | MAE Test Loss: 0.011873727664351463\n",
      "Epoch: 540 | MAE Train Loss: 0.003999481443315744 | MAE Test Loss: 0.011873727664351463\n",
      "Epoch: 550 | MAE Train Loss: 0.003999481443315744 | MAE Test Loss: 0.011873727664351463\n",
      "Epoch: 560 | MAE Train Loss: 0.003999481443315744 | MAE Test Loss: 0.011873727664351463\n",
      "Epoch: 570 | MAE Train Loss: 0.003999481443315744 | MAE Test Loss: 0.011873727664351463\n",
      "Epoch: 580 | MAE Train Loss: 0.003999481443315744 | MAE Test Loss: 0.011873727664351463\n",
      "Epoch: 590 | MAE Train Loss: 0.003999481443315744 | MAE Test Loss: 0.011873727664351463\n",
      "Epoch: 600 | MAE Train Loss: 0.003999481443315744 | MAE Test Loss: 0.011873727664351463\n",
      "Epoch: 610 | MAE Train Loss: 0.003999481443315744 | MAE Test Loss: 0.011873727664351463\n",
      "Epoch: 620 | MAE Train Loss: 0.003999481443315744 | MAE Test Loss: 0.011873727664351463\n",
      "Epoch: 630 | MAE Train Loss: 0.003999481443315744 | MAE Test Loss: 0.011873727664351463\n",
      "Epoch: 640 | MAE Train Loss: 0.003999481443315744 | MAE Test Loss: 0.011873727664351463\n",
      "Epoch: 650 | MAE Train Loss: 0.003999481443315744 | MAE Test Loss: 0.011873727664351463\n",
      "Epoch: 660 | MAE Train Loss: 0.003999481443315744 | MAE Test Loss: 0.011873727664351463\n",
      "Epoch: 670 | MAE Train Loss: 0.003999481443315744 | MAE Test Loss: 0.011873727664351463\n",
      "Epoch: 680 | MAE Train Loss: 0.003999481443315744 | MAE Test Loss: 0.011873727664351463\n",
      "Epoch: 690 | MAE Train Loss: 0.003999481443315744 | MAE Test Loss: 0.011873727664351463\n",
      "Epoch: 700 | MAE Train Loss: 0.003999481443315744 | MAE Test Loss: 0.011873727664351463\n",
      "Epoch: 710 | MAE Train Loss: 0.003999481443315744 | MAE Test Loss: 0.011873727664351463\n",
      "Epoch: 720 | MAE Train Loss: 0.003999481443315744 | MAE Test Loss: 0.011873727664351463\n",
      "Epoch: 730 | MAE Train Loss: 0.003999481443315744 | MAE Test Loss: 0.011873727664351463\n",
      "Epoch: 740 | MAE Train Loss: 0.003999481443315744 | MAE Test Loss: 0.011873727664351463\n",
      "Epoch: 750 | MAE Train Loss: 0.003999481443315744 | MAE Test Loss: 0.011873727664351463\n",
      "Epoch: 760 | MAE Train Loss: 0.003999481443315744 | MAE Test Loss: 0.011873727664351463\n",
      "Epoch: 770 | MAE Train Loss: 0.003999481443315744 | MAE Test Loss: 0.011873727664351463\n",
      "Epoch: 780 | MAE Train Loss: 0.003999481443315744 | MAE Test Loss: 0.011873727664351463\n",
      "Epoch: 790 | MAE Train Loss: 0.003999481443315744 | MAE Test Loss: 0.011873727664351463\n",
      "Epoch: 800 | MAE Train Loss: 0.003999481443315744 | MAE Test Loss: 0.011873727664351463\n",
      "Epoch: 810 | MAE Train Loss: 0.003999481443315744 | MAE Test Loss: 0.011873727664351463\n",
      "Epoch: 820 | MAE Train Loss: 0.003999481443315744 | MAE Test Loss: 0.011873727664351463\n",
      "Epoch: 830 | MAE Train Loss: 0.003999481443315744 | MAE Test Loss: 0.011873727664351463\n",
      "Epoch: 840 | MAE Train Loss: 0.003999481443315744 | MAE Test Loss: 0.011873727664351463\n",
      "Epoch: 850 | MAE Train Loss: 0.003999481443315744 | MAE Test Loss: 0.011873727664351463\n",
      "Epoch: 860 | MAE Train Loss: 0.003999481443315744 | MAE Test Loss: 0.011873727664351463\n",
      "Epoch: 870 | MAE Train Loss: 0.003999481443315744 | MAE Test Loss: 0.011873727664351463\n",
      "Epoch: 880 | MAE Train Loss: 0.003999481443315744 | MAE Test Loss: 0.011873727664351463\n",
      "Epoch: 890 | MAE Train Loss: 0.003999481443315744 | MAE Test Loss: 0.011873727664351463\n",
      "Epoch: 900 | MAE Train Loss: 0.003999481443315744 | MAE Test Loss: 0.011873727664351463\n",
      "Epoch: 910 | MAE Train Loss: 0.003999481443315744 | MAE Test Loss: 0.011873727664351463\n",
      "Epoch: 920 | MAE Train Loss: 0.003999481443315744 | MAE Test Loss: 0.011873727664351463\n",
      "Epoch: 930 | MAE Train Loss: 0.003999481443315744 | MAE Test Loss: 0.011873727664351463\n",
      "Epoch: 940 | MAE Train Loss: 0.003999481443315744 | MAE Test Loss: 0.011873727664351463\n",
      "Epoch: 950 | MAE Train Loss: 0.003999481443315744 | MAE Test Loss: 0.011873727664351463\n",
      "Epoch: 960 | MAE Train Loss: 0.003999481443315744 | MAE Test Loss: 0.011873727664351463\n",
      "Epoch: 970 | MAE Train Loss: 0.003999481443315744 | MAE Test Loss: 0.011873727664351463\n",
      "Epoch: 980 | MAE Train Loss: 0.003999481443315744 | MAE Test Loss: 0.011873727664351463\n",
      "Epoch: 990 | MAE Train Loss: 0.003999481443315744 | MAE Test Loss: 0.011873727664351463\n"
     ]
    }
   ],
   "source": [
    "epochs = 1000\n",
    "\n",
    "# Create empty loss lists to track values\n",
    "train_loss_values = []\n",
    "test_loss_values = []\n",
    "epoch_count = []\n",
    "\n",
    "## Training\n",
    "\n",
    "# 1. Loop Through the data\n",
    "for epoch in range(epochs):\n",
    "    # set the model to training mode\n",
    "    model_0.train()\n",
    "\n",
    "    # 1. Forward Pass\n",
    "    y_pred = model_0(X_train)\n",
    "\n",
    "    # 2. Calculate The loss\n",
    "    loss = loss_fn(y_pred, y_train)\n",
    "    # 3. Optimizer zero grad\n",
    "    optimizer.zero_grad()\n",
    "\n",
    "    # 4. Perform backpropagation on the loss wrt the parameters of the model (calculate gradients of each parameters)\n",
    "    loss.backward()\n",
    "\n",
    "    # 5. Step the optimizer (perform gradient descent)\n",
    "    optimizer.step() \n",
    "\n",
    "    ## Testing\n",
    "    model_0.eval()\n",
    "    with torch.inference_mode():\n",
    "        test_pred = model_0(X_test)\n",
    "        test_loss = loss_fn(test_pred, y_test.type(torch.float))\n",
    "        if epoch % 10 == 0:\n",
    "            epoch_count.append(epoch)\n",
    "            train_loss_values.append(loss.detach().numpy())\n",
    "            test_loss_values.append(test_loss.detach().numpy())\n",
    "            print(f'Epoch: {epoch} | MAE Train Loss: {loss} | MAE Test Loss: {test_loss}')\n"
   ]
  },
  {
   "cell_type": "code",
   "execution_count": 30,
   "id": "727da2ed-c3d1-48cf-8d84-0666b838b8ee",
   "metadata": {},
   "outputs": [
    {
     "data": {
      "text/plain": [
       "OrderedDict([('weights', tensor([0.6952])), ('bias', tensor([0.3059]))])"
      ]
     },
     "execution_count": 30,
     "metadata": {},
     "output_type": "execute_result"
    }
   ],
   "source": [
    "model_0.state_dict()"
   ]
  },
  {
   "cell_type": "code",
   "execution_count": 31,
   "id": "6eeded1c-ac24-47cc-ad0e-3014b9f1d6fb",
   "metadata": {},
   "outputs": [
    {
     "data": {
      "text/plain": [
       "(0.7, 0.3)"
      ]
     },
     "execution_count": 31,
     "metadata": {},
     "output_type": "execute_result"
    }
   ],
   "source": [
    "weight, bias"
   ]
  },
  {
   "cell_type": "code",
   "execution_count": 32,
   "id": "7479bf9d-3437-4335-8b1f-5cb8ad49dbf7",
   "metadata": {},
   "outputs": [],
   "source": [
    "with torch.inference_mode():\n",
    "    y_pred_new = model_0(X_test)"
   ]
  },
  {
   "cell_type": "code",
   "execution_count": 33,
   "id": "ea04f926-288c-4526-8a69-06bb72feb766",
   "metadata": {},
   "outputs": [
    {
     "data": {
      "image/png": "[encoded data removed]",
      "text/plain": [
       "<Figure size 1000x700 with 1 Axes>"
      ]
     },
     "metadata": {},
     "output_type": "display_data"
    }
   ],
   "source": [
    "plot_predictions(predictions=y_pred_new)"
   ]
  },
  {
   "cell_type": "code",
   "execution_count": 36,
   "id": "c75797ae-4a62-4759-a784-1532840a6987",
   "metadata": {},
   "outputs": [
    {
     "data": {
      "image/png": "[encoded data removed]",
      "text/plain": [
       "<Figure size 640x480 with 1 Axes>"
      ]
     },
     "metadata": {},
     "output_type": "display_data"
    }
   ],
   "source": [
    "# Plot the loss curves\n",
    "\n",
    "plt.plot(epoch_count, train_loss_values, label=\"Train loss\")\n",
    "plt.plot(epoch_count, test_loss_values, label=\"Test loss\")\n",
    "plt.title(\"Training and test loss curves\")\n",
    "plt.ylabel(\"Loss\")\n",
    "plt.xlabel(\"Epochs\")\n",
    "plt.legend();"
   ]
  },
  {
   "cell_type": "markdown",
   "id": "192f2be4-771c-435c-a0d5-c8fcd4fb983a",
   "metadata": {},
   "source": [
    "![title](https://raw.githubusercontent.com/mrdbourke/pytorch-deep-learning/main/images/01-pytorch-testing-loop-annotated.png)"
   ]
  },
  {
   "cell_type": "markdown",
   "id": "8c106c9e-b558-4fe5-b897-d0638ec216b2",
   "metadata": {},
   "source": [
    "# Save the model"
   ]
  },
  {
   "cell_type": "markdown",
   "id": "e2398a06-8f37-4dcd-a7ab-69301d4bdb14",
   "metadata": {},
   "source": [
    "<b>There are Primarly 3 ways of saving the model:</b>\n",
    "<table border=\"0\">\n",
    "  <tr>\n",
    "    <th>PyTorch method</th>\n",
    "    <th>What does it do?</th>\n",
    "  </tr>\n",
    "  <tr>\n",
    "    <td>torch.save</td>\n",
    "    <td>Saves a serialized object to disk using Python's pickle utility. Models, tensors and various other Python objects like dictionaries can be saved using torch.save.</td>\n",
    "  </tr>\n",
    "  <tr>\n",
    "    <td>torch.load</td>\n",
    "    <td>Uses pickle's unpickling features to deserialize and load pickled Python object files (like models, tensors or dictionaries) into memory. You can also set which device to load the object to (CPU, GPU etc).</td>\n",
    "  </tr>\n",
    "  <tr>\n",
    "    <td>torch.nn.Module.load_state_dict</td>\n",
    "    <td>Loads a model's parameter dictionary (model.state_dict()) using a saved state_dict() object.</td>\n",
    "  </tr>\n",
    "</table>\n"
   ]
  },
  {
   "cell_type": "code",
   "execution_count": 41,
   "id": "14908a31-621a-4311-aa23-668311d575ec",
   "metadata": {},
   "outputs": [
    {
     "name": "stdout",
     "output_type": "stream",
     "text": [
      "Saving Model to: Model\\01_Simple_model.pth\n"
     ]
    }
   ],
   "source": [
    "from pathlib import Path\n",
    "# 1. Create Model Directory\n",
    "MODEL_PATH = Path('Model')\n",
    "MODEL_PATH.mkdir(parents=True, exist_ok=True)\n",
    "\n",
    "# 2. Create Model Save Path\n",
    "MODEL_NAME = \"01_Simple_model.pth\"\n",
    "MODEL_SAVE_PATH = MODEL_PATH / MODEL_NAME\n",
    "\n",
    "# 3. Save the model state dict\n",
    "print(f\"Saving Model to: {MODEL_SAVE_PATH}\")\n",
    "# only saving the state_dict() only saves the models learned parameters\n",
    "torch.save(obj=model_0.state_dict(), f=MODEL_SAVE_PATH)"
   ]
  },
  {
   "cell_type": "markdown",
   "id": "493d152b-6958-42ea-a592-c9a762576b29",
   "metadata": {},
   "source": [
    "## Why saving only state dict and not entire model?\n",
    "The disadvantage of this approach (saving the whole model) is that the serialized data is bound to the specific classes and the exact directory structure used when the model is saved...\n",
    "\n",
    "Because of this, your code can break in various ways when used in other projects or after refactors."
   ]
  },
  {
   "cell_type": "markdown",
   "id": "51dded53-7fc2-438e-bd34-7c7f498bb837",
   "metadata": {},
   "source": [
    "# Loading a Model"
   ]
  },
  {
   "cell_type": "code",
   "execution_count": 45,
   "id": "d0fa07f7-8630-40a0-966b-0bf0d2122db7",
   "metadata": {},
   "outputs": [
    {
     "data": {
      "text/plain": [
       "<All keys matched successfully>"
      ]
     },
     "execution_count": 45,
     "metadata": {},
     "output_type": "execute_result"
    }
   ],
   "source": [
    "loaded_model = LinearRegressionModel()\n",
    "loaded_model.load_state_dict(torch.load(f=MODEL_SAVE_PATH))"
   ]
  },
  {
   "cell_type": "markdown",
   "id": "345884f0-aa3e-4aeb-b65c-eb015b5cfc80",
   "metadata": {},
   "source": [
    "# Test Loaded Model"
   ]
  },
  {
   "cell_type": "code",
   "execution_count": 47,
   "id": "51cc7645-2e46-4b23-beb7-f46b72a96a17",
   "metadata": {},
   "outputs": [],
   "source": [
    "loaded_model.eval()\n",
    "\n",
    "with torch.inference_mode():\n",
    "    loaded_model_preds = loaded_model(X_test)\n",
    "    "
   ]
  },
  {
   "cell_type": "code",
   "execution_count": 49,
   "id": "6754a476-b940-43bc-b9a2-d3b84c4f40c2",
   "metadata": {},
   "outputs": [
    {
     "data": {
      "text/plain": [
       "tensor([[0.8620],\n",
       "        [0.8759],\n",
       "        [0.8898],\n",
       "        [0.9037],\n",
       "        [0.9176],\n",
       "        [0.9315],\n",
       "        [0.9455],\n",
       "        [0.9594],\n",
       "        [0.9733],\n",
       "        [0.9872]])"
      ]
     },
     "execution_count": 49,
     "metadata": {},
     "output_type": "execute_result"
    }
   ],
   "source": [
    "loaded_model_preds"
   ]
  },
  {
   "cell_type": "code",
   "execution_count": 52,
   "id": "d141bb21-92b3-479d-bc70-1ebde8fed858",
   "metadata": {},
   "outputs": [
    {
     "data": {
      "text/plain": [
       "tensor([[0.8620],\n",
       "        [0.8759],\n",
       "        [0.8898],\n",
       "        [0.9037],\n",
       "        [0.9176],\n",
       "        [0.9315],\n",
       "        [0.9455],\n",
       "        [0.9594],\n",
       "        [0.9733],\n",
       "        [0.9872]], grad_fn=<AddBackward0>)"
      ]
     },
     "execution_count": 52,
     "metadata": {},
     "output_type": "execute_result"
    }
   ],
   "source": [
    "y_preds = model_0(X_test)\n",
    "y_preds"
   ]
  },
  {
   "cell_type": "code",
   "execution_count": 53,
   "id": "0c4f20d0-98e5-4b4f-8328-e38535d9d3c6",
   "metadata": {},
   "outputs": [
    {
     "data": {
      "text/plain": [
       "tensor([[True],\n",
       "        [True],\n",
       "        [True],\n",
       "        [True],\n",
       "        [True],\n",
       "        [True],\n",
       "        [True],\n",
       "        [True],\n",
       "        [True],\n",
       "        [True]])"
      ]
     },
     "execution_count": 53,
     "metadata": {},
     "output_type": "execute_result"
    }
   ],
   "source": [
    "loaded_model_preds == y_preds"
   ]
  },
  {
   "cell_type": "code",
   "execution_count": null,
   "id": "ae18f461-a5f1-46f2-9d87-f6c53a287d59",
   "metadata": {},
   "outputs": [],
   "source": []
  }
 ],
 "metadata": {
  "kernelspec": {
   "display_name": "Python 3 (ipykernel)",
   "language": "python",
   "name": "python3"
  },
  "language_info": {
   "codemirror_mode": {
    "name": "ipython",
    "version": 3
   },
   "file_extension": ".py",
   "mimetype": "text/x-python",
   "name": "python",
   "nbconvert_exporter": "python",
   "pygments_lexer": "ipython3",
   "version": "3.12.1"
  }
 },
 "nbformat": 4,
 "nbformat_minor": 5
}
