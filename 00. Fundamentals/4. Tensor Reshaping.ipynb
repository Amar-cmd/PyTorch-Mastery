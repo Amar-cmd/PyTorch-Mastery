{
 "cells": [
  {
   "cell_type": "markdown",
   "id": "4c07ea98",
   "metadata": {},
   "source": [
    "![title](https://meterpreter.org/wp-content/uploads/2017/12/pytorch-logo-dark-1024x205.png)"
   ]
  },
  {
   "cell_type": "code",
   "execution_count": 1,
   "id": "d41bffe0",
   "metadata": {},
   "outputs": [],
   "source": [
    "import torch"
   ]
  },
  {
   "cell_type": "markdown",
   "id": "c45ec1a5",
   "metadata": {},
   "source": [
    "# Tensor Reshaping\n",
    "\n",
    "Tensor reshaping is the process of changing the shape (i.e., the dimensions) of a tensor (a multi-dimensional array) without changing the underlying data. It's essential for making data compatible with various machine learning models and operations.\n",
    "\n",
    "## Common Reshaping Operations:\n",
    "- Reshape\n",
    "- Flatten\n",
    "- Squeeze\n",
    "- Unsqueeze / Expand_dims:\n",
    "- Transpose\n",
    "- Permute\n",
    "- Stack\n",
    "- View (PyTorch specific)"
   ]
  },
  {
   "cell_type": "markdown",
   "id": "faa4f503",
   "metadata": {},
   "source": [
    "# Reshape\n",
    "- **Explanation**: Changes the shape of the tensor to the specified dimensions.\n",
    "- **PyTorch**: `tensor.reshape(shape)`"
   ]
  },
  {
   "cell_type": "code",
   "execution_count": 6,
   "id": "9b8b48af",
   "metadata": {},
   "outputs": [
    {
     "name": "stdout",
     "output_type": "stream",
     "text": [
      "tensor([ 1,  2,  3,  4,  5,  6,  7,  8,  9, 10, 11, 12])\n",
      "torch.Size([12])\n"
     ]
    }
   ],
   "source": [
    "t = torch.arange(1,13)\n",
    "print(t)\n",
    "print(t.shape)"
   ]
  },
  {
   "cell_type": "code",
   "execution_count": 7,
   "id": "0545b2d0",
   "metadata": {},
   "outputs": [
    {
     "data": {
      "text/plain": [
       "tensor([[ 1,  2,  3],\n",
       "        [ 4,  5,  6],\n",
       "        [ 7,  8,  9],\n",
       "        [10, 11, 12]])"
      ]
     },
     "execution_count": 7,
     "metadata": {},
     "output_type": "execute_result"
    }
   ],
   "source": [
    "t.reshape(4,3)"
   ]
  },
  {
   "cell_type": "code",
   "execution_count": 8,
   "id": "f741b8b6",
   "metadata": {},
   "outputs": [
    {
     "data": {
      "text/plain": [
       "tensor([[ 1,  2,  3,  4],\n",
       "        [ 5,  6,  7,  8],\n",
       "        [ 9, 10, 11, 12]])"
      ]
     },
     "execution_count": 8,
     "metadata": {},
     "output_type": "execute_result"
    }
   ],
   "source": [
    "t.reshape(3,4)"
   ]
  },
  {
   "cell_type": "code",
   "execution_count": 9,
   "id": "09cef786",
   "metadata": {},
   "outputs": [
    {
     "data": {
      "text/plain": [
       "tensor([[ 1,  2],\n",
       "        [ 3,  4],\n",
       "        [ 5,  6],\n",
       "        [ 7,  8],\n",
       "        [ 9, 10],\n",
       "        [11, 12]])"
      ]
     },
     "execution_count": 9,
     "metadata": {},
     "output_type": "execute_result"
    }
   ],
   "source": [
    "t.reshape(6,2)"
   ]
  },
  {
   "cell_type": "code",
   "execution_count": 10,
   "id": "a562779b",
   "metadata": {},
   "outputs": [
    {
     "data": {
      "text/plain": [
       "tensor([[ 1,  2,  3,  4,  5,  6],\n",
       "        [ 7,  8,  9, 10, 11, 12]])"
      ]
     },
     "execution_count": 10,
     "metadata": {},
     "output_type": "execute_result"
    }
   ],
   "source": [
    "t.reshape(2,6)"
   ]
  },
  {
   "cell_type": "markdown",
   "id": "4c7d2be2",
   "metadata": {},
   "source": [
    "**Note**: `reshape(shape)` must be of multiplication of `m*n`.\n",
    "In the above code, 12 can be represented as:\n",
    "- 2 * 6\n",
    "- 3 * 4\n",
    "- 4 * 3\n",
    "- 6 * 2\n"
   ]
  },
  {
   "cell_type": "code",
   "execution_count": 13,
   "id": "e73ac1cc",
   "metadata": {},
   "outputs": [
    {
     "ename": "RuntimeError",
     "evalue": "shape '[3, 2]' is invalid for input of size 12",
     "output_type": "error",
     "traceback": [
      "\u001b[1;31m---------------------------------------------------------------------------\u001b[0m",
      "\u001b[1;31mRuntimeError\u001b[0m                              Traceback (most recent call last)",
      "Cell \u001b[1;32mIn[13], line 2\u001b[0m\n\u001b[0;32m      1\u001b[0m \u001b[38;5;66;03m# otherwise, the following error will be seen.\u001b[39;00m\n\u001b[1;32m----> 2\u001b[0m \u001b[43mt\u001b[49m\u001b[38;5;241;43m.\u001b[39;49m\u001b[43mreshape\u001b[49m\u001b[43m(\u001b[49m\u001b[38;5;241;43m3\u001b[39;49m\u001b[43m,\u001b[49m\u001b[38;5;241;43m2\u001b[39;49m\u001b[43m)\u001b[49m\n",
      "\u001b[1;31mRuntimeError\u001b[0m: shape '[3, 2]' is invalid for input of size 12"
     ]
    }
   ],
   "source": [
    "# otherwise, the following error will be seen.\n",
    "t.reshape(3,2)"
   ]
  },
  {
   "cell_type": "markdown",
   "id": "b800b62b",
   "metadata": {},
   "source": [
    "# View\n",
    "- **Explanation**: Similar to reshape, but can only be used on contiguous tensors. If the tensor is not contiguous, you'll need to call tensor.contiguous() before tensor.view().\n",
    "- **PyTorch Code**: `tensor.view(shape)`"
   ]
  },
  {
   "cell_type": "code",
   "execution_count": 16,
   "id": "7e2b1fc2",
   "metadata": {},
   "outputs": [
    {
     "data": {
      "text/plain": [
       "(tensor([[ 1,  2,  3,  4,  5,  6],\n",
       "         [ 7,  8,  9, 10, 11, 12]]),\n",
       " torch.Size([2, 6]))"
      ]
     },
     "execution_count": 16,
     "metadata": {},
     "output_type": "execute_result"
    }
   ],
   "source": [
    "z = t.view(2,6)\n",
    "z, z.shape"
   ]
  },
  {
   "cell_type": "markdown",
   "id": "36bb4175",
   "metadata": {},
   "source": [
    "**NOTE: Changing z, changes t (overwritten). This is because they share same memory.**"
   ]
  },
  {
   "cell_type": "code",
   "execution_count": 18,
   "id": "16a8dc3f",
   "metadata": {},
   "outputs": [
    {
     "name": "stdout",
     "output_type": "stream",
     "text": [
      "z =  tensor([[ 5,  2,  3,  4,  5,  6],\n",
      "        [ 5,  8,  9, 10, 11, 12]])\n",
      "\n",
      "t =  tensor([ 5,  2,  3,  4,  5,  6,  5,  8,  9, 10, 11, 12])\n"
     ]
    }
   ],
   "source": [
    "z[:,0] = 5\n",
    "print('z = ', z)\n",
    "print('\\nt = ', t)"
   ]
  },
  {
   "cell_type": "markdown",
   "id": "ac993e3c",
   "metadata": {},
   "source": [
    "# Stack"
   ]
  },
  {
   "cell_type": "code",
   "execution_count": 19,
   "id": "3aacd754",
   "metadata": {},
   "outputs": [
    {
     "data": {
      "text/plain": [
       "tensor([[ 5,  2,  3,  4,  5,  6,  5,  8,  9, 10, 11, 12],\n",
       "        [ 5,  2,  3,  4,  5,  6,  5,  8,  9, 10, 11, 12],\n",
       "        [ 5,  2,  3,  4,  5,  6,  5,  8,  9, 10, 11, 12]])"
      ]
     },
     "execution_count": 19,
     "metadata": {},
     "output_type": "execute_result"
    }
   ],
   "source": [
    "t_stacked = torch.stack([t,t,t], dim=0)\n",
    "t_stacked"
   ]
  },
  {
   "cell_type": "code",
   "execution_count": 22,
   "id": "b565e8d8",
   "metadata": {},
   "outputs": [
    {
     "data": {
      "text/plain": [
       "tensor([[ 5,  2,  3,  4,  5,  6,  5,  8,  9, 10, 11, 12],\n",
       "        [ 5,  2,  3,  4,  5,  6,  5,  8,  9, 10, 11, 12],\n",
       "        [ 5,  2,  3,  4,  5,  6,  5,  8,  9, 10, 11, 12]])"
      ]
     },
     "execution_count": 22,
     "metadata": {},
     "output_type": "execute_result"
    }
   ],
   "source": [
    "t_stacked = torch.vstack([t,t,t])\n",
    "t_stacked"
   ]
  },
  {
   "cell_type": "code",
   "execution_count": 23,
   "id": "8203efb3",
   "metadata": {},
   "outputs": [
    {
     "data": {
      "text/plain": [
       "tensor([[ 5,  5,  5],\n",
       "        [ 2,  2,  2],\n",
       "        [ 3,  3,  3],\n",
       "        [ 4,  4,  4],\n",
       "        [ 5,  5,  5],\n",
       "        [ 6,  6,  6],\n",
       "        [ 5,  5,  5],\n",
       "        [ 8,  8,  8],\n",
       "        [ 9,  9,  9],\n",
       "        [10, 10, 10],\n",
       "        [11, 11, 11],\n",
       "        [12, 12, 12]])"
      ]
     },
     "execution_count": 23,
     "metadata": {},
     "output_type": "execute_result"
    }
   ],
   "source": [
    "t_stacked = torch.stack([t,t,t], dim=1)\n",
    "t_stacked"
   ]
  },
  {
   "cell_type": "code",
   "execution_count": 24,
   "id": "66f79c1e",
   "metadata": {},
   "outputs": [
    {
     "data": {
      "text/plain": [
       "tensor([ 5,  2,  3,  4,  5,  6,  5,  8,  9, 10, 11, 12,  5,  2,  3,  4,  5,  6,\n",
       "         5,  8,  9, 10, 11, 12,  5,  2,  3,  4,  5,  6,  5,  8,  9, 10, 11, 12])"
      ]
     },
     "execution_count": 24,
     "metadata": {},
     "output_type": "execute_result"
    }
   ],
   "source": [
    "t_stacked = torch.hstack([t,t,t])\n",
    "t_stacked"
   ]
  },
  {
   "cell_type": "markdown",
   "id": "872a2ea6",
   "metadata": {},
   "source": [
    "### Table for dimension and stack \n",
    "<table>\n",
    "<th>Dim</th>\n",
    "<th>Stack</th>\n",
    "<tr><td>0</td>\n",
    "<td>vstack</td></tr>\n",
    "<tr><td>1</td>\n",
    "<td>hstack</td></tr>\n",
    "</table>"
   ]
  },
  {
   "cell_type": "markdown",
   "id": "b04e37d2",
   "metadata": {},
   "source": [
    "# Squeeze\n",
    "- **Explanation**: Removes dimensions of size 1 from the shape of a tensor. For example, if the tensor has a shape of (1, 28, 28), squeezing it would result in (28, 28).\n",
    "- **PyTorch Code**: `tensor.squeeze()`"
   ]
  },
  {
   "cell_type": "code",
   "execution_count": 43,
   "id": "1a8d926e",
   "metadata": {},
   "outputs": [
    {
     "name": "stdout",
     "output_type": "stream",
     "text": [
      "x =  torch.Size([2, 1, 2, 1, 2])\n",
      "y =  torch.Size([2, 2, 2])\n"
     ]
    }
   ],
   "source": [
    "x = torch.zeros(2, 1, 2, 1, 2)\n",
    "print('x = ',x.shape)\n",
    "y = torch.squeeze(x)\n",
    "print('y = ',y.shape)"
   ]
  },
  {
   "cell_type": "code",
   "execution_count": 44,
   "id": "526cf519",
   "metadata": {},
   "outputs": [
    {
     "name": "stdout",
     "output_type": "stream",
     "text": [
      "y =  torch.Size([2, 1, 2, 1, 2])\n"
     ]
    }
   ],
   "source": [
    "y = torch.squeeze(x, 0)\n",
    "print('y = ',y.shape)"
   ]
  },
  {
   "cell_type": "code",
   "execution_count": 45,
   "id": "2cf8b053",
   "metadata": {},
   "outputs": [
    {
     "name": "stdout",
     "output_type": "stream",
     "text": [
      "y =  torch.Size([2, 2, 1, 2])\n"
     ]
    }
   ],
   "source": [
    "y = torch.squeeze(x, 1)\n",
    "print('y = ',y.shape)"
   ]
  },
  {
   "cell_type": "code",
   "execution_count": 46,
   "id": "a6b713c2",
   "metadata": {},
   "outputs": [
    {
     "name": "stdout",
     "output_type": "stream",
     "text": [
      "y =  torch.Size([2, 2, 2])\n"
     ]
    }
   ],
   "source": [
    "y = torch.squeeze(x, (1, 2, 3))\n",
    "print('y = ',y.shape)"
   ]
  },
  {
   "cell_type": "code",
   "execution_count": 54,
   "id": "714af37f",
   "metadata": {},
   "outputs": [
    {
     "name": "stdout",
     "output_type": "stream",
     "text": [
      "y =  torch.Size([2, 1, 2, 2])\n"
     ]
    }
   ],
   "source": [
    "y = torch.squeeze(x, (3,4))\n",
    "print('y = ',y.shape)"
   ]
  },
  {
   "cell_type": "markdown",
   "id": "d33918ef",
   "metadata": {},
   "source": [
    "# Unsqueeze\n",
    "- **Explanation**: Adds a dimension of size 1 at a specified index. This is often used to prepare tensors for operations that require a specific number of dimensions.\n",
    "- **PyTorch Code**: `tensor.unsqueeze(dim)`"
   ]
  },
  {
   "cell_type": "code",
   "execution_count": 71,
   "id": "d1f6ba40",
   "metadata": {},
   "outputs": [
    {
     "name": "stdout",
     "output_type": "stream",
     "text": [
      "\n",
      " tensor([[[[0., 0.],\n",
      "          [0., 0.]]],\n",
      "\n",
      "\n",
      "        [[[0., 0.],\n",
      "          [0., 0.]]]])\n",
      "y-shape torch.Size([2, 1, 2, 2])\n",
      "\n",
      " tensor([[[[[0., 0.],\n",
      "           [0., 0.]]],\n",
      "\n",
      "\n",
      "         [[[0., 0.],\n",
      "           [0., 0.]]]]])\n",
      "p-shape torch.Size([1, 2, 1, 2, 2])\n"
     ]
    }
   ],
   "source": [
    "p = y.unsqueeze(dim=0)\n",
    "print('\\n',y)\n",
    "print('y-shape',y.shape)\n",
    "print('\\n',p)\n",
    "print('p-shape',p.shape)\n"
   ]
  },
  {
   "cell_type": "code",
   "execution_count": 70,
   "id": "c8dac83f",
   "metadata": {},
   "outputs": [
    {
     "name": "stdout",
     "output_type": "stream",
     "text": [
      "\n",
      " tensor([[[[0., 0.],\n",
      "          [0., 0.]]],\n",
      "\n",
      "\n",
      "        [[[0., 0.],\n",
      "          [0., 0.]]]])\n",
      "y-shape torch.Size([2, 1, 2, 2])\n",
      "\n",
      " tensor([[[[[0., 0.],\n",
      "           [0., 0.]]]],\n",
      "\n",
      "\n",
      "\n",
      "        [[[[0., 0.],\n",
      "           [0., 0.]]]]])\n",
      "p-shape torch.Size([2, 1, 1, 2, 2])\n"
     ]
    }
   ],
   "source": [
    "p = y.unsqueeze(dim=1)\n",
    "print('\\n',y)\n",
    "\n",
    "print('y-shape',y.shape)\n",
    "print('\\n',p)\n",
    "print('p-shape',p.shape)\n"
   ]
  },
  {
   "cell_type": "code",
   "execution_count": 76,
   "id": "03a06d9f",
   "metadata": {},
   "outputs": [
    {
     "name": "stdout",
     "output_type": "stream",
     "text": [
      "\n",
      " tensor([[[[0., 0.],\n",
      "          [0., 0.]]],\n",
      "\n",
      "\n",
      "        [[[0., 0.],\n",
      "          [0., 0.]]]])\n",
      "+----------\n",
      "y-shape torch.Size([2, 1, 2, 2])\n",
      "+----------\n",
      "\n",
      " tensor([[[[[0., 0.],\n",
      "           [0., 0.]]]],\n",
      "\n",
      "\n",
      "\n",
      "        [[[[0., 0.],\n",
      "           [0., 0.]]]]])\n",
      "+----------\n",
      "p-shape torch.Size([2, 1, 1, 2, 2])\n",
      "+----------\n"
     ]
    }
   ],
   "source": [
    "p = y.unsqueeze(dim=2)\n",
    "print('\\n',y)\n",
    "print('+----------')\n",
    "print('y-shape',y.shape)\n",
    "print('+----------')\n",
    "\n",
    "print('\\n',p)\n",
    "print('+----------')\n",
    "\n",
    "print('p-shape',p.shape)\n",
    "print('+----------')\n"
   ]
  },
  {
   "cell_type": "markdown",
   "id": "e31fbeca",
   "metadata": {},
   "source": [
    "# Permute\n",
    "- **Explanation**: A more general form of transpose. It changes the order of the axes in a tensor to any desired order.\n",
    "- **PyTorch Code**: `tensor.permute(dims)`"
   ]
  },
  {
   "cell_type": "code",
   "execution_count": 77,
   "id": "42e6f951",
   "metadata": {},
   "outputs": [
    {
     "name": "stdout",
     "output_type": "stream",
     "text": [
      "Previous shape: torch.Size([224, 224, 3])\n",
      "New shape: torch.Size([3, 224, 224])\n"
     ]
    }
   ],
   "source": [
    "# Create tensor with specific shape\n",
    "x_original = torch.rand(size=(224, 224, 3)) # (height, width, channel)\n",
    "\n",
    "# Permute the original tensor to rearrange the axis order\n",
    "x_permuted = x_original.permute(2, 0, 1) # shifts axis 0->1, 1->2, 2->0 (channel, height, width)\n",
    "\n",
    "print(f\"Previous shape: {x_original.shape}\")\n",
    "print(f\"New shape: {x_permuted.shape}\")"
   ]
  },
  {
   "cell_type": "markdown",
   "id": "5d72a968",
   "metadata": {},
   "source": [
    "# Transpose\n",
    "\n",
    "- **Explanation**: Swaps two dimensions of a tensor. Often used to swap axes for certain types of processing or to match expected input shapes.\n",
    "- **PyTorch Code**: `tensor.transpose(dim0, dim1)`\n"
   ]
  },
  {
   "cell_type": "code",
   "execution_count": 93,
   "id": "388977f1",
   "metadata": {},
   "outputs": [
    {
     "name": "stdout",
     "output_type": "stream",
     "text": [
      "original\n",
      " tensor([[1, 2, 3],\n",
      "        [4, 5, 6]])\n",
      "\n",
      "Transpose\n",
      " tensor([[1, 4],\n",
      "        [2, 5],\n",
      "        [3, 6]])\n"
     ]
    }
   ],
   "source": [
    "print('original\\n', t)\n",
    "print('\\nTranspose\\n', torch.transpose(t,0,1))"
   ]
  },
  {
   "cell_type": "code",
   "execution_count": 95,
   "id": "488fa16f",
   "metadata": {},
   "outputs": [
    {
     "name": "stdout",
     "output_type": "stream",
     "text": [
      "original\n",
      " tensor([[1, 2, 3],\n",
      "        [4, 5, 6]])\n",
      "\n",
      "Transpose\n",
      " tensor([[1, 4],\n",
      "        [2, 5],\n",
      "        [3, 6]])\n"
     ]
    }
   ],
   "source": [
    "print('original\\n', t)\n",
    "print('\\nTranspose\\n', t.T)"
   ]
  },
  {
   "cell_type": "markdown",
   "id": "44628a2d",
   "metadata": {},
   "source": [
    ">**Note** : torch.transpose() is same as tensor.T"
   ]
  },
  {
   "cell_type": "markdown",
   "id": "9d8b1823",
   "metadata": {},
   "source": [
    "# Flatten\n",
    "\n",
    "- **Explanation**: Collapses all dimensions of a tensor into one, creating a 1D tensor from a multi-dimensional one.\n",
    "- **PyTorch Code**: `tensor.flatten()`"
   ]
  },
  {
   "cell_type": "code",
   "execution_count": 99,
   "id": "48c70f3c",
   "metadata": {},
   "outputs": [
    {
     "name": "stdout",
     "output_type": "stream",
     "text": [
      "original\n",
      " tensor([[1, 2, 3],\n",
      "        [4, 5, 6]])\n",
      "\n",
      "Flatten\n",
      " tensor([1, 2, 3, 4, 5, 6])\n"
     ]
    }
   ],
   "source": [
    "print('original\\n', t)\n",
    "print('\\nFlatten\\n', t.flatten())"
   ]
  },
  {
   "cell_type": "markdown",
   "id": "b586aed1",
   "metadata": {},
   "source": [
    "## Applications:\n",
    "* **Preparing Data**: Reshaping is used extensively in data preprocessing to prepare datasets for training neural networks.\n",
    "* **Layer Output**: In neural networks, reshaping is often required when the output of one layer needs to be transformed to match the input shape expected by the next layer.\n",
    "* **Feature Engineering**: Reshaping can help in creating new features from existing data."
   ]
  },
  {
   "cell_type": "code",
   "execution_count": null,
   "id": "46f5eb45",
   "metadata": {},
   "outputs": [],
   "source": []
  }
 ],
 "metadata": {
  "kernelspec": {
   "display_name": "Python 3 (ipykernel)",
   "language": "python",
   "name": "python3"
  },
  "language_info": {
   "codemirror_mode": {
    "name": "ipython",
    "version": 3
   },
   "file_extension": ".py",
   "mimetype": "text/x-python",
   "name": "python",
   "nbconvert_exporter": "python",
   "pygments_lexer": "ipython3",
   "version": "3.11.3"
  }
 },
 "nbformat": 4,
 "nbformat_minor": 5
}
