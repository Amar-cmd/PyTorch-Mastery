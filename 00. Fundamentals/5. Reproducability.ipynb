{
 "cells": [
  {
   "cell_type": "markdown",
   "id": "b7cff2a7",
   "metadata": {},
   "source": [
    "![title](https://meterpreter.org/wp-content/uploads/2017/12/pytorch-logo-dark-1024x205.png)"
   ]
  },
  {
   "cell_type": "code",
   "execution_count": 1,
   "id": "4c0d3269",
   "metadata": {},
   "outputs": [],
   "source": [
    "import torch"
   ]
  },
  {
   "cell_type": "markdown",
   "id": "8beb65b0",
   "metadata": {},
   "source": [
    "# Reproducibility\n",
    "- Reproducibility in machine learning, including in PyTorch, refers to the ability to **recreate the same results using the same model and the same data**. \n",
    "\n",
    "- This is crucial for validating experiments and for ensuring that models behave expectedly in production. \n",
    "\n",
    "- However, achieving perfect reproducibility in PyTorch (or any other deep learning framework) can be challenging due to the many factors that can introduce variability. "
   ]
  },
  {
   "cell_type": "markdown",
   "id": "b0634bec",
   "metadata": {},
   "source": [
    "# Sources of Non-Reproducibility\n",
    "- **Randomness**: Most machine learning algorithms have some level of inherent randomness, such as weights initialization and data shuffling.\n",
    "\n",
    "- **Parallelism**: The non-deterministic nature of GPU operations, especially with floating-point calculations, can lead to slight differences.\n",
    "\n",
    "- **Environment**: Differences in software versions (PyTorch, CUDA, cuDNN), hardware, and operating systems can affect reproducibility"
   ]
  },
  {
   "cell_type": "markdown",
   "id": "534d357d",
   "metadata": {},
   "source": [
    "# Steps to Improve Reproducibility:\n",
    "1. Use Random Seeds"
   ]
  },
  {
   "cell_type": "code",
   "execution_count": 21,
   "id": "78144c22",
   "metadata": {},
   "outputs": [
    {
     "data": {
      "text/plain": [
       "(tensor([[0.8823, 0.9150, 0.3829, 0.9593],\n",
       "         [0.3904, 0.6009, 0.2566, 0.7936],\n",
       "         [0.9408, 0.1332, 0.9346, 0.5936]]),\n",
       " tensor([[0.8823, 0.9150, 0.3829, 0.9593],\n",
       "         [0.3904, 0.6009, 0.2566, 0.7936],\n",
       "         [0.9408, 0.1332, 0.9346, 0.5936]]),\n",
       " tensor([[True, True, True, True],\n",
       "         [True, True, True, True],\n",
       "         [True, True, True, True]]))"
      ]
     },
     "execution_count": 21,
     "metadata": {},
     "output_type": "execute_result"
    }
   ],
   "source": [
    "import numpy as np\n",
    "import random\n",
    "\n",
    "SEED = 42\n",
    "torch.manual_seed(SEED)\n",
    "x = torch.rand(3,4)\n",
    "\n",
    "torch.manual_seed(SEED)\n",
    "y = torch.rand(3,4)\n",
    "\n",
    "x,y, x==y"
   ]
  },
  {
   "cell_type": "code",
   "execution_count": 28,
   "id": "5b2cf967",
   "metadata": {},
   "outputs": [
    {
     "name": "stdout",
     "output_type": "stream",
     "text": [
      "tensor([[0.8823, 0.9150, 0.3829, 0.9593],\n",
      "        [0.3904, 0.6009, 0.2566, 0.7936],\n",
      "        [0.9408, 0.1332, 0.9346, 0.5936]])\n"
     ]
    }
   ],
   "source": [
    "# Enable deterministic algorithms\n",
    "torch.use_deterministic_algorithms(True)\n",
    "\n",
    "# Set a seed for the random number generator for reproducibility\n",
    "torch.manual_seed(42)\n",
    "\n",
    "# Create a random tensor\n",
    "x = torch.rand(3, 4)\n",
    "\n",
    "# Print the tensor\n",
    "print(x)\n"
   ]
  },
  {
   "cell_type": "markdown",
   "id": "da190f05",
   "metadata": {},
   "source": [
    "`torch.use_deterministic_algorithms(True)` : This can help with reproducibility but may impact performance and may not cover all operations."
   ]
  },
  {
   "cell_type": "code",
   "execution_count": null,
   "id": "b128c5b9",
   "metadata": {},
   "outputs": [],
   "source": []
  }
 ],
 "metadata": {
  "kernelspec": {
   "display_name": "Python 3 (ipykernel)",
   "language": "python",
   "name": "python3"
  },
  "language_info": {
   "codemirror_mode": {
    "name": "ipython",
    "version": 3
   },
   "file_extension": ".py",
   "mimetype": "text/x-python",
   "name": "python",
   "nbconvert_exporter": "python",
   "pygments_lexer": "ipython3",
   "version": "3.11.3"
  }
 },
 "nbformat": 4,
 "nbformat_minor": 5
}
