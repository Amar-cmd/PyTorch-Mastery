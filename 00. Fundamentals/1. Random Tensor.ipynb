{
 "cells": [
  {
   "cell_type": "markdown",
   "id": "9a35d4e2",
   "metadata": {},
   "source": [
    "![title](https://meterpreter.org/wp-content/uploads/2017/12/pytorch-logo-dark-1024x205.png)"
   ]
  },
  {
   "cell_type": "code",
   "execution_count": 1,
   "id": "5d166a2f",
   "metadata": {},
   "outputs": [],
   "source": [
    "import torch"
   ]
  },
  {
   "cell_type": "markdown",
   "id": "602035e3",
   "metadata": {},
   "source": [
    "# Random"
   ]
  },
  {
   "cell_type": "markdown",
   "id": "1ac3a2f8",
   "metadata": {},
   "source": [
    "### TORCH.RAND\n",
    "- Returns a tensor filled with random numbers from a uniform distribution on the interval ```[0,1)```\n",
    "- The shape of the tensor is defined by the variable argument size"
   ]
  },
  {
   "cell_type": "code",
   "execution_count": 4,
   "id": "d1422928",
   "metadata": {},
   "outputs": [
    {
     "data": {
      "text/plain": [
       "tensor([0.8117, 0.8933, 0.3380])"
      ]
     },
     "execution_count": 4,
     "metadata": {},
     "output_type": "execute_result"
    }
   ],
   "source": [
    "torch.rand(3)"
   ]
  },
  {
   "cell_type": "code",
   "execution_count": 3,
   "id": "78a160d6",
   "metadata": {},
   "outputs": [
    {
     "data": {
      "text/plain": [
       "tensor([[0.5010, 0.5570, 0.4828, 0.0767],\n",
       "        [0.5109, 0.2079, 0.6466, 0.9725],\n",
       "        [0.1339, 0.6444, 0.7903, 0.2327]])"
      ]
     },
     "execution_count": 3,
     "metadata": {},
     "output_type": "execute_result"
    }
   ],
   "source": [
    "torch.rand(3,4)"
   ]
  },
  {
   "cell_type": "code",
   "execution_count": 5,
   "id": "46ab3dd4",
   "metadata": {},
   "outputs": [
    {
     "data": {
      "text/plain": [
       "tensor([[[0.0878, 0.5242, 0.7555],\n",
       "         [0.0929, 0.0045, 0.5167],\n",
       "         [0.9656, 0.5219, 0.7033],\n",
       "         [0.9621, 0.9617, 0.2800]],\n",
       "\n",
       "        [[0.9081, 0.3665, 0.7650],\n",
       "         [0.8317, 0.2256, 0.0292],\n",
       "         [0.9550, 0.1382, 0.6592],\n",
       "         [0.7973, 0.8502, 0.5497]],\n",
       "\n",
       "        [[0.0732, 0.4248, 0.4523],\n",
       "         [0.8943, 0.7155, 0.0954],\n",
       "         [0.3898, 0.7183, 0.5399],\n",
       "         [0.2009, 0.2512, 0.9350]]])"
      ]
     },
     "execution_count": 5,
     "metadata": {},
     "output_type": "execute_result"
    }
   ],
   "source": [
    "torch.rand(3,4,3)"
   ]
  },
  {
   "cell_type": "markdown",
   "id": "e38b00a6",
   "metadata": {},
   "source": [
    "#### Create a random tensor of size (224, 224, 3) - (height, width, channel)"
   ]
  },
  {
   "cell_type": "code",
   "execution_count": 6,
   "id": "852221b3",
   "metadata": {},
   "outputs": [
    {
     "data": {
      "text/plain": [
       "(torch.Size([224, 224, 3]), 3)"
      ]
     },
     "execution_count": 6,
     "metadata": {},
     "output_type": "execute_result"
    }
   ],
   "source": [
    "random_image_size_tensor = torch.rand(size=(224, 224, 3))\n",
    "random_image_size_tensor.shape, random_image_size_tensor.ndim"
   ]
  },
  {
   "cell_type": "markdown",
   "id": "0c21eebe",
   "metadata": {},
   "source": [
    "# Zeros and Ones"
   ]
  },
  {
   "cell_type": "code",
   "execution_count": 10,
   "id": "66f6f01e",
   "metadata": {},
   "outputs": [
    {
     "data": {
      "text/plain": [
       "tensor([[0., 0., 0., 0.],\n",
       "        [0., 0., 0., 0.],\n",
       "        [0., 0., 0., 0.]])"
      ]
     },
     "execution_count": 10,
     "metadata": {},
     "output_type": "execute_result"
    }
   ],
   "source": [
    "torch.zeros(3,4)"
   ]
  },
  {
   "cell_type": "code",
   "execution_count": 11,
   "id": "dc199c80",
   "metadata": {},
   "outputs": [
    {
     "data": {
      "text/plain": [
       "tensor([[1., 1., 1., 1.],\n",
       "        [1., 1., 1., 1.],\n",
       "        [1., 1., 1., 1.]])"
      ]
     },
     "execution_count": 11,
     "metadata": {},
     "output_type": "execute_result"
    }
   ],
   "source": [
    "torch.ones(3,4)"
   ]
  },
  {
   "cell_type": "markdown",
   "id": "85a03862",
   "metadata": {},
   "source": [
    "# Range of tensors"
   ]
  },
  {
   "cell_type": "markdown",
   "id": "3ab85244",
   "metadata": {},
   "source": [
    "### TORCH.ARANGE\n",
    "```torch.arange(start=0, end, step=1, *, out=None, dtype=None, layout=torch.strided, device=None, requires_grad=False) → Tensor```\n",
    "\n",
    "- Returns a 1-D tensor of size ```⌈(end−start)/step⌉``` with values from the interval ```[start, end)``` taken with common difference step beginning from start.\n",
    "\n",
    "- OUT<sub>i+1</sub> = OUT<sub>i</sub> + step\n",
    "\n",
    "\n",
    "##### **Parameters**\n",
    "- **start (Number)** – the starting value for the set of points. Default: 0.\n",
    "\n",
    "- **end (Number)** – the ending value for the set of points\n",
    "\n",
    "- **step (Number)** – the gap between each pair of adjacent points. Default: 1."
   ]
  },
  {
   "cell_type": "code",
   "execution_count": 12,
   "id": "19473d41",
   "metadata": {},
   "outputs": [
    {
     "data": {
      "text/plain": [
       "tensor([ 0,  1,  2,  3,  4,  5,  6,  7,  8,  9, 10])"
      ]
     },
     "execution_count": 12,
     "metadata": {},
     "output_type": "execute_result"
    }
   ],
   "source": [
    "torch.arange(0,11)"
   ]
  },
  {
   "cell_type": "code",
   "execution_count": 16,
   "id": "610ee879",
   "metadata": {},
   "outputs": [
    {
     "data": {
      "text/plain": [
       "tensor([ 0,  2,  4,  6,  8, 10])"
      ]
     },
     "execution_count": 16,
     "metadata": {},
     "output_type": "execute_result"
    }
   ],
   "source": [
    "torch.arange(0,11,2)"
   ]
  },
  {
   "cell_type": "code",
   "execution_count": 17,
   "id": "ed3c4c01",
   "metadata": {},
   "outputs": [
    {
     "data": {
      "text/plain": [
       "tensor([5.0000e-01, 7.9049e+01, 1.5760e+02, 2.3615e+02, 3.1470e+02, 3.9324e+02,\n",
       "        4.7179e+02, 5.5034e+02, 6.2889e+02, 7.0744e+02, 7.8599e+02, 8.6454e+02,\n",
       "        9.4309e+02, 1.0216e+03])"
      ]
     },
     "execution_count": 17,
     "metadata": {},
     "output_type": "execute_result"
    }
   ],
   "source": [
    "torch.arange(0.5,1043.6,78.549)"
   ]
  },
  {
   "cell_type": "markdown",
   "id": "0d792a95",
   "metadata": {},
   "source": [
    "### TORCH.ZEROS_LIKE\n",
    "- Returns a tensor filled with the scalar value 0, with the same size as ```input```. "
   ]
  },
  {
   "cell_type": "code",
   "execution_count": 19,
   "id": "e77337c1",
   "metadata": {},
   "outputs": [
    {
     "data": {
      "text/plain": [
       "tensor([[0., 0., 0.],\n",
       "        [0., 0., 0.]])"
      ]
     },
     "execution_count": 19,
     "metadata": {},
     "output_type": "execute_result"
    }
   ],
   "source": [
    "input = torch.empty(2,3)\n",
    "torch.zeros_like(input)"
   ]
  },
  {
   "cell_type": "code",
   "execution_count": 26,
   "id": "46d18a5e",
   "metadata": {},
   "outputs": [
    {
     "data": {
      "text/plain": [
       "tensor([0, 0, 0, 0, 0, 0, 0, 0])"
      ]
     },
     "execution_count": 26,
     "metadata": {},
     "output_type": "execute_result"
    }
   ],
   "source": [
    "input = torch.arange(2,10)\n",
    "torch.zeros_like(input)"
   ]
  },
  {
   "cell_type": "markdown",
   "id": "eda22756",
   "metadata": {},
   "source": [
    "### TORCH.ONES_LIKE\n",
    "- Creates a new tensor with the same shape as the input tensor, filled with ones."
   ]
  },
  {
   "cell_type": "code",
   "execution_count": 27,
   "id": "39454ae8",
   "metadata": {},
   "outputs": [
    {
     "data": {
      "text/plain": [
       "tensor([1, 1, 1, 1, 1, 1, 1, 1])"
      ]
     },
     "execution_count": 27,
     "metadata": {},
     "output_type": "execute_result"
    }
   ],
   "source": [
    "torch.ones_like(input)"
   ]
  },
  {
   "cell_type": "markdown",
   "id": "19172d2d",
   "metadata": {},
   "source": [
    "### TORCH.FULL_LIKE\n",
    "- Creates a new tensor with the same shape as the input tensor, filled with a specified value.\n",
    "\n"
   ]
  },
  {
   "cell_type": "code",
   "execution_count": 31,
   "id": "61c0d28a",
   "metadata": {},
   "outputs": [
    {
     "data": {
      "text/plain": [
       "tensor([5, 5, 5, 5, 5, 5, 5, 5])"
      ]
     },
     "execution_count": 31,
     "metadata": {},
     "output_type": "execute_result"
    }
   ],
   "source": [
    "torch.full_like(input, fill_value=5)"
   ]
  },
  {
   "cell_type": "markdown",
   "id": "c3c7fc6c",
   "metadata": {},
   "source": [
    "### TORCH.RAND_LIKE\n",
    "- Creates a new tensor with the same shape as the input tensor, with values drawn from a uniform distribution between 0 and 1."
   ]
  },
  {
   "cell_type": "code",
   "execution_count": 33,
   "id": "897b6a58",
   "metadata": {},
   "outputs": [
    {
     "data": {
      "text/plain": [
       "tensor([0.7438, 0.9077, 0.8117, 0.9765, 0.4578, 0.5805, 0.2121, 0.5600])"
      ]
     },
     "execution_count": 33,
     "metadata": {},
     "output_type": "execute_result"
    }
   ],
   "source": [
    "torch.rand_like(input,dtype=torch.float)"
   ]
  },
  {
   "cell_type": "markdown",
   "id": "e7eff292",
   "metadata": {},
   "source": [
    "### TORCH.RANDN_LIKE\n",
    "- Creates a new tensor with the same shape as the input tensor, with values drawn from a standard normal distribution."
   ]
  },
  {
   "cell_type": "code",
   "execution_count": 34,
   "id": "e10c07ed",
   "metadata": {},
   "outputs": [
    {
     "data": {
      "text/plain": [
       "tensor([ 0.3012, -1.4129,  0.2589,  1.4966, -1.3740,  0.4260, -0.3777,  0.6407])"
      ]
     },
     "execution_count": 34,
     "metadata": {},
     "output_type": "execute_result"
    }
   ],
   "source": [
    "torch.randn_like(input,dtype=torch.float)"
   ]
  },
  {
   "cell_type": "markdown",
   "id": "c67e69c9",
   "metadata": {},
   "source": [
    "### TORCH.EMPTY_LIKE\n",
    "- Creates a new tensor with the same shape as the input tensor, without initializing the values. This is typically faster but the values will be whatever happens to be in memory.\n",
    "\n"
   ]
  },
  {
   "cell_type": "code",
   "execution_count": 37,
   "id": "2a1bf979",
   "metadata": {},
   "outputs": [
    {
     "data": {
      "text/plain": [
       "tensor([5706002664256,             3,             4,             5,\n",
       "                    6,             7,             8,             9])"
      ]
     },
     "execution_count": 37,
     "metadata": {},
     "output_type": "execute_result"
    }
   ],
   "source": [
    "torch.empty_like(input)"
   ]
  },
  {
   "cell_type": "code",
   "execution_count": null,
   "id": "7559f620",
   "metadata": {},
   "outputs": [],
   "source": []
  },
  {
   "cell_type": "code",
   "execution_count": null,
   "id": "b3ebde96",
   "metadata": {},
   "outputs": [],
   "source": []
  }
 ],
 "metadata": {
  "kernelspec": {
   "display_name": "Python 3 (ipykernel)",
   "language": "python",
   "name": "python3"
  },
  "language_info": {
   "codemirror_mode": {
    "name": "ipython",
    "version": 3
   },
   "file_extension": ".py",
   "mimetype": "text/x-python",
   "name": "python",
   "nbconvert_exporter": "python",
   "pygments_lexer": "ipython3",
   "version": "3.11.3"
  }
 },
 "nbformat": 4,
 "nbformat_minor": 5
}
