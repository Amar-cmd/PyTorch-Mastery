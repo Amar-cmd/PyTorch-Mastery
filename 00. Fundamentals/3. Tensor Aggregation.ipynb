{
 "cells": [
  {
   "cell_type": "markdown",
   "id": "f2c524b6",
   "metadata": {},
   "source": [
    "![title](https://meterpreter.org/wp-content/uploads/2017/12/pytorch-logo-dark-1024x205.png)"
   ]
  },
  {
   "cell_type": "markdown",
   "id": "e95d37cf",
   "metadata": {},
   "source": [
    "# TENSOR AGGREGATION\n",
    "Tensor aggregation operations reduce a tensor to a smaller size or a single value by applying a specific operation.\n",
    "\n",
    "Here's a list of common tensor aggregation operations:\n",
    "- Sum\n",
    "- Mean\n",
    "- Product\n",
    "- Min\n",
    "- Max\n",
    "- Standard Deviation\n",
    "- Variance\n",
    "- Argmax\n",
    "- Argmin\n",
    "- Norm\n",
    "- Cumulative Sum\n",
    "- Cumulative Product\n",
    "\n",
    "Additional or specialized aggregation functions: \n",
    "- Median\n",
    "- Any\n",
    "- All\n",
    "- Unique\n",
    "- Top k\n",
    "- Sort\n",
    "- Quantile\n",
    "- Mode\n",
    "- Softmax\n",
    "- LogSumExp:"
   ]
  },
  {
   "cell_type": "code",
   "execution_count": 1,
   "id": "9af47ca8",
   "metadata": {},
   "outputs": [],
   "source": [
    "import torch"
   ]
  },
  {
   "cell_type": "code",
   "execution_count": 3,
   "id": "017e5092",
   "metadata": {},
   "outputs": [
    {
     "data": {
      "text/plain": [
       "tensor([ 10,  20,  30,  40,  50,  60,  70,  80,  90, 100])"
      ]
     },
     "execution_count": 3,
     "metadata": {},
     "output_type": "execute_result"
    }
   ],
   "source": [
    "t = torch.arange(10,101,10)\n",
    "t"
   ]
  },
  {
   "cell_type": "markdown",
   "id": "bdd04e4d",
   "metadata": {},
   "source": [
    "### 1. Sum\n",
    "- **Explanation**: Calculates the sum of all elements in the tensor.\n",
    "- **PyTorch Code**: `torch.sum(tensor)` or `tensor.sum()`"
   ]
  },
  {
   "cell_type": "code",
   "execution_count": 5,
   "id": "a35561a9",
   "metadata": {},
   "outputs": [
    {
     "data": {
      "text/plain": [
       "tensor(550)"
      ]
     },
     "execution_count": 5,
     "metadata": {},
     "output_type": "execute_result"
    }
   ],
   "source": [
    "# t.sum() is same as torch.sum(t)\n",
    "t.sum()\n",
    "torch.sum(t)"
   ]
  },
  {
   "cell_type": "markdown",
   "id": "c2ccddbe",
   "metadata": {},
   "source": [
    "### 2. Mean\n",
    "\n",
    "- **Explanation**: Computes the mean of all elements in the tensor.\n",
    "- **PyTorch Code**: `torch.mean(tensor)` or `t.mean()`"
   ]
  },
  {
   "cell_type": "code",
   "execution_count": 7,
   "id": "64782c14",
   "metadata": {},
   "outputs": [
    {
     "ename": "RuntimeError",
     "evalue": "mean(): could not infer output dtype. Input dtype must be either a floating point or complex dtype. Got: Long",
     "output_type": "error",
     "traceback": [
      "\u001b[1;31m---------------------------------------------------------------------------\u001b[0m",
      "\u001b[1;31mRuntimeError\u001b[0m                              Traceback (most recent call last)",
      "Cell \u001b[1;32mIn[7], line 1\u001b[0m\n\u001b[1;32m----> 1\u001b[0m \u001b[43mt\u001b[49m\u001b[38;5;241;43m.\u001b[39;49m\u001b[43mmean\u001b[49m\u001b[43m(\u001b[49m\u001b[43m)\u001b[49m\n",
      "\u001b[1;31mRuntimeError\u001b[0m: mean(): could not infer output dtype. Input dtype must be either a floating point or complex dtype. Got: Long"
     ]
    }
   ],
   "source": [
    "t.mean()"
   ]
  },
  {
   "cell_type": "markdown",
   "id": "dda3c885",
   "metadata": {},
   "source": [
    "**The error is due to dtype unsupport. It can be fixed by changing dtype**"
   ]
  },
  {
   "cell_type": "code",
   "execution_count": 10,
   "id": "e3d2d3f3",
   "metadata": {},
   "outputs": [
    {
     "data": {
      "text/plain": [
       "torch.int64"
      ]
     },
     "execution_count": 10,
     "metadata": {},
     "output_type": "execute_result"
    }
   ],
   "source": [
    "t.dtype"
   ]
  },
  {
   "cell_type": "markdown",
   "id": "f42eb089",
   "metadata": {},
   "source": [
    "**int64 is not supported with tensor.mean()**"
   ]
  },
  {
   "cell_type": "code",
   "execution_count": 14,
   "id": "74f9d18a",
   "metadata": {},
   "outputs": [
    {
     "data": {
      "text/plain": [
       "tensor([ 10.,  20.,  30.,  40.,  50.,  60.,  70.,  80.,  90., 100.])"
      ]
     },
     "execution_count": 14,
     "metadata": {},
     "output_type": "execute_result"
    }
   ],
   "source": [
    "t.type(torch.float32)"
   ]
  },
  {
   "cell_type": "code",
   "execution_count": 15,
   "id": "c79acf32",
   "metadata": {},
   "outputs": [
    {
     "data": {
      "text/plain": [
       "tensor(55.)"
      ]
     },
     "execution_count": 15,
     "metadata": {},
     "output_type": "execute_result"
    }
   ],
   "source": [
    "t.type(torch.float32).mean()"
   ]
  },
  {
   "cell_type": "markdown",
   "id": "65df9001",
   "metadata": {},
   "source": [
    "### 3. Product:\n",
    "\n",
    "- **Explanation**: Calculates the product of all elements in the tensor.\n",
    "- **PyTorch Code**: `torch.prod(tensor)`"
   ]
  },
  {
   "cell_type": "code",
   "execution_count": 16,
   "id": "67012aa3",
   "metadata": {},
   "outputs": [
    {
     "data": {
      "text/plain": [
       "tensor(36288000000000000)"
      ]
     },
     "execution_count": 16,
     "metadata": {},
     "output_type": "execute_result"
    }
   ],
   "source": [
    "t.prod()"
   ]
  },
  {
   "cell_type": "markdown",
   "id": "29fb4cb9",
   "metadata": {},
   "source": [
    "### 4. Min:\n",
    "\n",
    "- **Explanation**: Identifies the minimum value in the tensor.\n",
    "- **PyTorch Code**: `torch.min(tensor)`"
   ]
  },
  {
   "cell_type": "code",
   "execution_count": 17,
   "id": "2ce1994e",
   "metadata": {},
   "outputs": [
    {
     "data": {
      "text/plain": [
       "tensor(10)"
      ]
     },
     "execution_count": 17,
     "metadata": {},
     "output_type": "execute_result"
    }
   ],
   "source": [
    "t.min()"
   ]
  },
  {
   "cell_type": "markdown",
   "id": "e25d598f",
   "metadata": {},
   "source": [
    "### 5. Max:\n",
    "\n",
    "- **Explanation**: Identifies the maximum value in the tensor.\n",
    "- **PyTorch Code**: `torch.max(tensor)`"
   ]
  },
  {
   "cell_type": "code",
   "execution_count": 19,
   "id": "6c1e9891",
   "metadata": {},
   "outputs": [
    {
     "data": {
      "text/plain": [
       "tensor(100)"
      ]
     },
     "execution_count": 19,
     "metadata": {},
     "output_type": "execute_result"
    }
   ],
   "source": [
    "t.max()"
   ]
  },
  {
   "cell_type": "markdown",
   "id": "e162b054",
   "metadata": {},
   "source": [
    "### 6. Standard Deviation:\n",
    "\n",
    "- **Explanation**: Computes the standard deviation of elements in the tensor.\n",
    "- **PyTorch Code**: `torch.std(tensor)`"
   ]
  },
  {
   "cell_type": "code",
   "execution_count": 22,
   "id": "8083a490",
   "metadata": {},
   "outputs": [
    {
     "ename": "RuntimeError",
     "evalue": "std and var only support floating point and complex dtypes",
     "output_type": "error",
     "traceback": [
      "\u001b[1;31m---------------------------------------------------------------------------\u001b[0m",
      "\u001b[1;31mRuntimeError\u001b[0m                              Traceback (most recent call last)",
      "Cell \u001b[1;32mIn[22], line 1\u001b[0m\n\u001b[1;32m----> 1\u001b[0m \u001b[43mt\u001b[49m\u001b[38;5;241;43m.\u001b[39;49m\u001b[43mstd\u001b[49m\u001b[43m(\u001b[49m\u001b[43m)\u001b[49m\n",
      "\u001b[1;31mRuntimeError\u001b[0m: std and var only support floating point and complex dtypes"
     ]
    }
   ],
   "source": [
    "t.std()"
   ]
  },
  {
   "cell_type": "code",
   "execution_count": 23,
   "id": "da20bced",
   "metadata": {},
   "outputs": [
    {
     "data": {
      "text/plain": [
       "tensor(30.2765)"
      ]
     },
     "execution_count": 23,
     "metadata": {},
     "output_type": "execute_result"
    }
   ],
   "source": [
    "t.type(torch.float32).std()"
   ]
  },
  {
   "cell_type": "markdown",
   "id": "06d7c200",
   "metadata": {},
   "source": [
    "### 7. Variance:\n",
    "\n",
    "- **Explanation**: Calculates the variance of elements in the tensor.\n",
    "- **PyTorch Code**: `torch.var(tensor)`"
   ]
  },
  {
   "cell_type": "code",
   "execution_count": 24,
   "id": "2189a6d4",
   "metadata": {},
   "outputs": [
    {
     "ename": "RuntimeError",
     "evalue": "std and var only support floating point and complex dtypes",
     "output_type": "error",
     "traceback": [
      "\u001b[1;31m---------------------------------------------------------------------------\u001b[0m",
      "\u001b[1;31mRuntimeError\u001b[0m                              Traceback (most recent call last)",
      "Cell \u001b[1;32mIn[24], line 1\u001b[0m\n\u001b[1;32m----> 1\u001b[0m \u001b[43mt\u001b[49m\u001b[38;5;241;43m.\u001b[39;49m\u001b[43mvar\u001b[49m\u001b[43m(\u001b[49m\u001b[43m)\u001b[49m\n",
      "\u001b[1;31mRuntimeError\u001b[0m: std and var only support floating point and complex dtypes"
     ]
    }
   ],
   "source": [
    "t.var()"
   ]
  },
  {
   "cell_type": "code",
   "execution_count": 25,
   "id": "b60406ba",
   "metadata": {},
   "outputs": [
    {
     "data": {
      "text/plain": [
       "tensor(916.6667)"
      ]
     },
     "execution_count": 25,
     "metadata": {},
     "output_type": "execute_result"
    }
   ],
   "source": [
    "t.type(torch.float32).var()"
   ]
  },
  {
   "cell_type": "markdown",
   "id": "4c85aabc",
   "metadata": {},
   "source": [
    "### 8. Argmax:\n",
    "\n",
    "- **Explanation**: Returns the index of the maximum value in a tensor along a specified axis.\n",
    "- **PyTorch Code**: `torch.argmax(input=tensor, dim=axis)`"
   ]
  },
  {
   "cell_type": "code",
   "execution_count": 26,
   "id": "90135c48",
   "metadata": {},
   "outputs": [
    {
     "data": {
      "text/plain": [
       "tensor(9)"
      ]
     },
     "execution_count": 26,
     "metadata": {},
     "output_type": "execute_result"
    }
   ],
   "source": [
    "t.argmax()"
   ]
  },
  {
   "cell_type": "code",
   "execution_count": 29,
   "id": "4daa8b53",
   "metadata": {},
   "outputs": [
    {
     "name": "stdout",
     "output_type": "stream",
     "text": [
      "Actual tensor tensor([ 10,  20,  30,  40,  50,  60,  70,  80,  90, 100])\n",
      "tensor(100)\n"
     ]
    }
   ],
   "source": [
    "# actual element at 9th index\n",
    "print('Actual tensor', t)\n",
    "print(t[9])"
   ]
  },
  {
   "cell_type": "markdown",
   "id": "2fe435b9",
   "metadata": {},
   "source": [
    "### 9. Argmin:\n",
    "\n",
    "- **Explanation**: Returns the index of the minimum value in a tensor along a specified axis.\n",
    "- **PyTorch Code**: `torch.argmin(input=tensor, dim=axis)`"
   ]
  },
  {
   "cell_type": "code",
   "execution_count": 30,
   "id": "22717ad8",
   "metadata": {},
   "outputs": [
    {
     "data": {
      "text/plain": [
       "tensor(0)"
      ]
     },
     "execution_count": 30,
     "metadata": {},
     "output_type": "execute_result"
    }
   ],
   "source": [
    "t.argmin()"
   ]
  },
  {
   "cell_type": "code",
   "execution_count": 31,
   "id": "fd210843",
   "metadata": {},
   "outputs": [
    {
     "name": "stdout",
     "output_type": "stream",
     "text": [
      "Actual tensor tensor([ 10,  20,  30,  40,  50,  60,  70,  80,  90, 100])\n",
      "tensor(10)\n"
     ]
    }
   ],
   "source": [
    "# actual element at 0th index\n",
    "print('Actual tensor', t)\n",
    "print(t[0])"
   ]
  },
  {
   "cell_type": "markdown",
   "id": "b379a1c0",
   "metadata": {},
   "source": [
    "### 10. Norm:\n",
    "\n",
    "- **Explanation**: Computes the norm of a tensor. The default is the Euclidean norm (L2), but you can specify other norms.\n",
    "- **PyTorch Code**: `torch.norm(input=tensor, p='fro')` for Frobenius norm, replace 'fro' with the desired norm.\n"
   ]
  },
  {
   "cell_type": "code",
   "execution_count": 32,
   "id": "38e5400f",
   "metadata": {},
   "outputs": [
    {
     "ename": "RuntimeError",
     "evalue": "linalg.vector_norm: Expected a floating point or complex tensor as input. Got Long",
     "output_type": "error",
     "traceback": [
      "\u001b[1;31m---------------------------------------------------------------------------\u001b[0m",
      "\u001b[1;31mRuntimeError\u001b[0m                              Traceback (most recent call last)",
      "Cell \u001b[1;32mIn[32], line 1\u001b[0m\n\u001b[1;32m----> 1\u001b[0m \u001b[43mt\u001b[49m\u001b[38;5;241;43m.\u001b[39;49m\u001b[43mnorm\u001b[49m\u001b[43m(\u001b[49m\u001b[43m)\u001b[49m\n",
      "File \u001b[1;32mC:\\Python311\\Lib\\site-packages\\torch\\_tensor.py:708\u001b[0m, in \u001b[0;36mTensor.norm\u001b[1;34m(self, p, dim, keepdim, dtype)\u001b[0m\n\u001b[0;32m    704\u001b[0m \u001b[38;5;28;01mif\u001b[39;00m has_torch_function_unary(\u001b[38;5;28mself\u001b[39m):\n\u001b[0;32m    705\u001b[0m     \u001b[38;5;28;01mreturn\u001b[39;00m handle_torch_function(\n\u001b[0;32m    706\u001b[0m         Tensor\u001b[38;5;241m.\u001b[39mnorm, (\u001b[38;5;28mself\u001b[39m,), \u001b[38;5;28mself\u001b[39m, p\u001b[38;5;241m=\u001b[39mp, dim\u001b[38;5;241m=\u001b[39mdim, keepdim\u001b[38;5;241m=\u001b[39mkeepdim, dtype\u001b[38;5;241m=\u001b[39mdtype\n\u001b[0;32m    707\u001b[0m     )\n\u001b[1;32m--> 708\u001b[0m \u001b[38;5;28;01mreturn\u001b[39;00m \u001b[43mtorch\u001b[49m\u001b[38;5;241;43m.\u001b[39;49m\u001b[43mnorm\u001b[49m\u001b[43m(\u001b[49m\u001b[38;5;28;43mself\u001b[39;49m\u001b[43m,\u001b[49m\u001b[43m \u001b[49m\u001b[43mp\u001b[49m\u001b[43m,\u001b[49m\u001b[43m \u001b[49m\u001b[43mdim\u001b[49m\u001b[43m,\u001b[49m\u001b[43m \u001b[49m\u001b[43mkeepdim\u001b[49m\u001b[43m,\u001b[49m\u001b[43m \u001b[49m\u001b[43mdtype\u001b[49m\u001b[38;5;241;43m=\u001b[39;49m\u001b[43mdtype\u001b[49m\u001b[43m)\u001b[49m\n",
      "File \u001b[1;32mC:\\Python311\\Lib\\site-packages\\torch\\functional.py:1595\u001b[0m, in \u001b[0;36mnorm\u001b[1;34m(input, p, dim, keepdim, out, dtype)\u001b[0m\n\u001b[0;32m   1593\u001b[0m \u001b[38;5;28;01mif\u001b[39;00m p \u001b[38;5;241m==\u001b[39m \u001b[38;5;124m\"\u001b[39m\u001b[38;5;124mfro\u001b[39m\u001b[38;5;124m\"\u001b[39m \u001b[38;5;129;01mand\u001b[39;00m (dim \u001b[38;5;129;01mis\u001b[39;00m \u001b[38;5;28;01mNone\u001b[39;00m \u001b[38;5;129;01mor\u001b[39;00m \u001b[38;5;28misinstance\u001b[39m(dim, \u001b[38;5;28mint\u001b[39m) \u001b[38;5;129;01mor\u001b[39;00m \u001b[38;5;28mlen\u001b[39m(dim) \u001b[38;5;241m<\u001b[39m\u001b[38;5;241m=\u001b[39m \u001b[38;5;241m2\u001b[39m):\n\u001b[0;32m   1594\u001b[0m     \u001b[38;5;28;01mif\u001b[39;00m out \u001b[38;5;129;01mis\u001b[39;00m \u001b[38;5;28;01mNone\u001b[39;00m:\n\u001b[1;32m-> 1595\u001b[0m         \u001b[38;5;28;01mreturn\u001b[39;00m \u001b[43mtorch\u001b[49m\u001b[38;5;241;43m.\u001b[39;49m\u001b[43mlinalg\u001b[49m\u001b[38;5;241;43m.\u001b[39;49m\u001b[43mvector_norm\u001b[49m\u001b[43m(\u001b[49m\u001b[38;5;28;43minput\u001b[39;49m\u001b[43m,\u001b[49m\u001b[43m \u001b[49m\u001b[38;5;241;43m2\u001b[39;49m\u001b[43m,\u001b[49m\u001b[43m \u001b[49m\u001b[43m_dim\u001b[49m\u001b[43m,\u001b[49m\u001b[43m \u001b[49m\u001b[43mkeepdim\u001b[49m\u001b[43m,\u001b[49m\u001b[43m \u001b[49m\u001b[43mdtype\u001b[49m\u001b[38;5;241;43m=\u001b[39;49m\u001b[43mdtype\u001b[49m\u001b[43m)\u001b[49m\n\u001b[0;32m   1596\u001b[0m     \u001b[38;5;28;01melse\u001b[39;00m:\n\u001b[0;32m   1597\u001b[0m         \u001b[38;5;28;01mreturn\u001b[39;00m torch\u001b[38;5;241m.\u001b[39mlinalg\u001b[38;5;241m.\u001b[39mvector_norm(\u001b[38;5;28minput\u001b[39m, \u001b[38;5;241m2\u001b[39m, _dim, keepdim, dtype\u001b[38;5;241m=\u001b[39mdtype, out\u001b[38;5;241m=\u001b[39mout)\n",
      "\u001b[1;31mRuntimeError\u001b[0m: linalg.vector_norm: Expected a floating point or complex tensor as input. Got Long"
     ]
    }
   ],
   "source": [
    "t.norm()"
   ]
  },
  {
   "cell_type": "code",
   "execution_count": 34,
   "id": "f062a609",
   "metadata": {},
   "outputs": [
    {
     "data": {
      "text/plain": [
       "tensor(196.2142)"
      ]
     },
     "execution_count": 34,
     "metadata": {},
     "output_type": "execute_result"
    }
   ],
   "source": [
    "t.type(torch.float32).norm(p=\"fro\")"
   ]
  },
  {
   "cell_type": "markdown",
   "id": "0d339049",
   "metadata": {},
   "source": [
    "### 11. Cumulative Sum:\n",
    "\n",
    "- **Explanation**: Computes the cumulative sum of the elements along a given axis.\n",
    "- **PyTorch Code**: `torch.cumsum(tensor, dim=axis)`"
   ]
  },
  {
   "cell_type": "code",
   "execution_count": 36,
   "id": "91453f70",
   "metadata": {},
   "outputs": [
    {
     "data": {
      "text/plain": [
       "tensor([ 10,  30,  60, 100, 150, 210, 280, 360, 450, 550])"
      ]
     },
     "execution_count": 36,
     "metadata": {},
     "output_type": "execute_result"
    }
   ],
   "source": [
    "t.cumsum(axis=0)"
   ]
  },
  {
   "cell_type": "markdown",
   "id": "ff8accb3",
   "metadata": {},
   "source": [
    "### 12. Cumulative Product:\n",
    "\n",
    "- **Explanation**: Computes the cumulative product of the elements along a given axis.\n",
    "- **PyTorch Code**: `torch.cumprod(tensor, dim=axis)`"
   ]
  },
  {
   "cell_type": "code",
   "execution_count": 38,
   "id": "d8b3df14",
   "metadata": {},
   "outputs": [
    {
     "data": {
      "text/plain": [
       "tensor([               10,               200,              6000,\n",
       "                   240000,          12000000,         720000000,\n",
       "              50400000000,     4032000000000,   362880000000000,\n",
       "        36288000000000000])"
      ]
     },
     "execution_count": 38,
     "metadata": {},
     "output_type": "execute_result"
    }
   ],
   "source": [
    "t.cumprod(axis=0)"
   ]
  },
  {
   "cell_type": "markdown",
   "id": "36dd6114",
   "metadata": {},
   "source": [
    "# Additional Aggregations\n",
    "### 13. Median:\n",
    "\n",
    "- **Explanation**: Computes the median of the elements in the tensor.\n",
    "- **PyTorch Code**: `torch.median(tensor)`"
   ]
  },
  {
   "cell_type": "code",
   "execution_count": 40,
   "id": "11d4d88d",
   "metadata": {},
   "outputs": [
    {
     "data": {
      "text/plain": [
       "tensor(50)"
      ]
     },
     "execution_count": 40,
     "metadata": {},
     "output_type": "execute_result"
    }
   ],
   "source": [
    "t.median()"
   ]
  },
  {
   "cell_type": "markdown",
   "id": "464811d7",
   "metadata": {},
   "source": [
    "### 14. Any:\n",
    "\n",
    "- **Explanation**: Checks if any of the elements in the tensor are True (usually for boolean tensors).\n",
    "- **PyTorch Code**: `torch.any(tensor)`"
   ]
  },
  {
   "cell_type": "code",
   "execution_count": 41,
   "id": "3ae1d04c",
   "metadata": {},
   "outputs": [
    {
     "data": {
      "text/plain": [
       "tensor(True)"
      ]
     },
     "execution_count": 41,
     "metadata": {},
     "output_type": "execute_result"
    }
   ],
   "source": [
    "t.any()"
   ]
  },
  {
   "cell_type": "markdown",
   "id": "230cfe77",
   "metadata": {},
   "source": [
    "### 15. All:\n",
    "\n",
    "- **Explanation**: Checks if all the elements in the tensor are True (usually for boolean tensors).\n",
    "- **PyTorch Code**: `torch.all(tensor)`"
   ]
  },
  {
   "cell_type": "code",
   "execution_count": 42,
   "id": "412a77e7",
   "metadata": {},
   "outputs": [
    {
     "data": {
      "text/plain": [
       "tensor(True)"
      ]
     },
     "execution_count": 42,
     "metadata": {},
     "output_type": "execute_result"
    }
   ],
   "source": [
    "t.all()"
   ]
  },
  {
   "cell_type": "markdown",
   "id": "063c20be",
   "metadata": {},
   "source": [
    "### 15. Unique:\n",
    "\n",
    "- **Explanation**: Finds unique elements in a tensor.\n",
    "- **PyTorch Code**: `torch.unique(tensor)`"
   ]
  },
  {
   "cell_type": "code",
   "execution_count": 45,
   "id": "4dd3befe",
   "metadata": {},
   "outputs": [
    {
     "data": {
      "text/plain": [
       "tensor([10, 12, 14, 15])"
      ]
     },
     "execution_count": 45,
     "metadata": {},
     "output_type": "execute_result"
    }
   ],
   "source": [
    "t2 = torch.tensor([10,10,14,12,12,14,15])\n",
    "t2.unique()"
   ]
  },
  {
   "cell_type": "markdown",
   "id": "2d73ff5e",
   "metadata": {},
   "source": [
    "### 15. Top k:\n",
    "\n",
    "- **Explanation**: Finds the k largest elements in the tensor.\n",
    "- **PyTorch Code**: `torch.topk(tensor, k)`"
   ]
  },
  {
   "cell_type": "code",
   "execution_count": 46,
   "id": "2eb5702f",
   "metadata": {},
   "outputs": [
    {
     "data": {
      "text/plain": [
       "torch.return_types.topk(\n",
       "values=tensor([100,  90,  80,  70]),\n",
       "indices=tensor([9, 8, 7, 6]))"
      ]
     },
     "execution_count": 46,
     "metadata": {},
     "output_type": "execute_result"
    }
   ],
   "source": [
    "t.topk(4)"
   ]
  },
  {
   "cell_type": "markdown",
   "id": "516d22d8",
   "metadata": {},
   "source": [
    "### 16. Sort:\n",
    "\n",
    "- **Explanation**: Sorts the elements of the tensor.\n",
    "- **PyTorch Code**: `torch.sort(tensor, dim=-1)`"
   ]
  },
  {
   "cell_type": "code",
   "execution_count": 48,
   "id": "01832559",
   "metadata": {},
   "outputs": [
    {
     "data": {
      "text/plain": [
       "torch.return_types.sort(\n",
       "values=tensor([10, 10, 12, 12, 14, 14, 15]),\n",
       "indices=tensor([0, 1, 3, 4, 2, 5, 6]))"
      ]
     },
     "execution_count": 48,
     "metadata": {},
     "output_type": "execute_result"
    }
   ],
   "source": [
    "t2 = torch.tensor([10,10,14,12,12,14,15])\n",
    "t2.sort()"
   ]
  },
  {
   "cell_type": "markdown",
   "id": "3ac35955",
   "metadata": {},
   "source": [
    "### 17. Quantile:\n",
    "\n",
    "- **Explanation**: Computes the quantile of a tensor.\n",
    "- **PyTorch Code**: Can be calculated using `torch.quantile(input, q, dim=None, keepdim=False, *, interpolation='linear', out=None)`."
   ]
  },
  {
   "cell_type": "code",
   "execution_count": 55,
   "id": "a0074776",
   "metadata": {},
   "outputs": [
    {
     "name": "stdout",
     "output_type": "stream",
     "text": [
      "tensor([[ 0.5633,  0.1407,  0.9724],\n",
      "        [-2.2099, -0.0411, -0.4497]])\n",
      "quartiles:  tensor([0.2500, 0.5000, 0.7500])\n"
     ]
    }
   ],
   "source": [
    "a = torch.randn(2, 3)\n",
    "print(a)\n",
    "q = torch.tensor([0.25, 0.5, 0.75])\n",
    "print('quartiles: ',q)"
   ]
  },
  {
   "cell_type": "code",
   "execution_count": 56,
   "id": "6afe764d",
   "metadata": {},
   "outputs": [
    {
     "data": {
      "text/plain": [
       "tensor([[[ 0.3520],\n",
       "         [-1.3298]],\n",
       "\n",
       "        [[ 0.5633],\n",
       "         [-0.4497]],\n",
       "\n",
       "        [[ 0.7678],\n",
       "         [-0.2454]]])"
      ]
     },
     "execution_count": 56,
     "metadata": {},
     "output_type": "execute_result"
    }
   ],
   "source": [
    "torch.quantile(a, q, dim=1, keepdim=True)"
   ]
  },
  {
   "cell_type": "code",
   "execution_count": 58,
   "id": "adf3cca8",
   "metadata": {},
   "outputs": [
    {
     "data": {
      "text/plain": [
       "tensor([0., 1., 2., 3.])"
      ]
     },
     "execution_count": 58,
     "metadata": {},
     "output_type": "execute_result"
    }
   ],
   "source": [
    "a = torch.arange(4.)\n",
    "a"
   ]
  },
  {
   "cell_type": "code",
   "execution_count": 59,
   "id": "89443a24",
   "metadata": {},
   "outputs": [
    {
     "data": {
      "text/plain": [
       "tensor(1.8000)"
      ]
     },
     "execution_count": 59,
     "metadata": {},
     "output_type": "execute_result"
    }
   ],
   "source": [
    "torch.quantile(a, 0.6, interpolation='linear')"
   ]
  },
  {
   "cell_type": "markdown",
   "id": "72fd0944",
   "metadata": {},
   "source": [
    "### 18. Mode:\n",
    "\n",
    "- **Explanation**: Computes the mode of the elements in the tensor.\n",
    "- **PyTorch Code**: `torch.mode(tensor)`"
   ]
  },
  {
   "cell_type": "code",
   "execution_count": 69,
   "id": "42c46225",
   "metadata": {},
   "outputs": [
    {
     "data": {
      "text/plain": [
       "torch.return_types.mode(\n",
       "values=tensor(10),\n",
       "indices=tensor(2))"
      ]
     },
     "execution_count": 69,
     "metadata": {},
     "output_type": "execute_result"
    }
   ],
   "source": [
    "t2 = torch.tensor([10,10,10,12,12])\n",
    "t2.mode()"
   ]
  }
 ],
 "metadata": {
  "kernelspec": {
   "display_name": "Python 3 (ipykernel)",
   "language": "python",
   "name": "python3"
  },
  "language_info": {
   "codemirror_mode": {
    "name": "ipython",
    "version": 3
   },
   "file_extension": ".py",
   "mimetype": "text/x-python",
   "name": "python",
   "nbconvert_exporter": "python",
   "pygments_lexer": "ipython3",
   "version": "3.11.3"
  }
 },
 "nbformat": 4,
 "nbformat_minor": 5
}
