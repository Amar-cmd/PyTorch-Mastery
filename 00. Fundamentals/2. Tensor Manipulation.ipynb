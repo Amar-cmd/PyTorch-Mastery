{
 "cells": [
  {
   "cell_type": "markdown",
   "id": "5a56b914",
   "metadata": {},
   "source": [
    "![title](https://meterpreter.org/wp-content/uploads/2017/12/pytorch-logo-dark-1024x205.png)"
   ]
  },
  {
   "cell_type": "markdown",
   "id": "54b50719",
   "metadata": {},
   "source": [
    "# Tensor Manipulation\n",
    "1. Addition\n",
    "2. Subtraction\n",
    "3. Multiplication (Element-wise)\n",
    "4. Division\n",
    "5. Matrix Multiplication"
   ]
  },
  {
   "cell_type": "code",
   "execution_count": 1,
   "id": "52db042a",
   "metadata": {},
   "outputs": [],
   "source": [
    "import torch"
   ]
  },
  {
   "cell_type": "code",
   "execution_count": 3,
   "id": "a2e7667a",
   "metadata": {},
   "outputs": [
    {
     "data": {
      "text/plain": [
       "tensor([1, 2, 3])"
      ]
     },
     "execution_count": 3,
     "metadata": {},
     "output_type": "execute_result"
    }
   ],
   "source": [
    "T = torch.tensor([1,2,3])\n",
    "T"
   ]
  },
  {
   "cell_type": "code",
   "execution_count": 4,
   "id": "09fa7750",
   "metadata": {},
   "outputs": [
    {
     "data": {
      "text/plain": [
       "tensor([11, 12, 13])"
      ]
     },
     "execution_count": 4,
     "metadata": {},
     "output_type": "execute_result"
    }
   ],
   "source": [
    "T + 10"
   ]
  },
  {
   "cell_type": "code",
   "execution_count": 5,
   "id": "dbf4145f",
   "metadata": {},
   "outputs": [
    {
     "data": {
      "text/plain": [
       "tensor([-9, -8, -7])"
      ]
     },
     "execution_count": 5,
     "metadata": {},
     "output_type": "execute_result"
    }
   ],
   "source": [
    "T - 10"
   ]
  },
  {
   "cell_type": "code",
   "execution_count": 6,
   "id": "37fb774f",
   "metadata": {},
   "outputs": [
    {
     "data": {
      "text/plain": [
       "tensor([10, 20, 30])"
      ]
     },
     "execution_count": 6,
     "metadata": {},
     "output_type": "execute_result"
    }
   ],
   "source": [
    "T * 10"
   ]
  },
  {
   "cell_type": "code",
   "execution_count": 7,
   "id": "eff34905",
   "metadata": {},
   "outputs": [
    {
     "data": {
      "text/plain": [
       "tensor([0.1000, 0.2000, 0.3000])"
      ]
     },
     "execution_count": 7,
     "metadata": {},
     "output_type": "execute_result"
    }
   ],
   "source": [
    "T / 10"
   ]
  },
  {
   "cell_type": "markdown",
   "id": "7ac8ee91",
   "metadata": {},
   "source": [
    "### PyTorch in-built function"
   ]
  },
  {
   "cell_type": "markdown",
   "id": "3468e58b",
   "metadata": {},
   "source": [
    "**1. torch.add()**"
   ]
  },
  {
   "cell_type": "code",
   "execution_count": 12,
   "id": "a8d85018",
   "metadata": {},
   "outputs": [
    {
     "data": {
      "text/plain": [
       "tensor([11, 12, 13])"
      ]
     },
     "execution_count": 12,
     "metadata": {},
     "output_type": "execute_result"
    }
   ],
   "source": [
    "torch.add(T, 10)"
   ]
  },
  {
   "cell_type": "markdown",
   "id": "e99ec37f",
   "metadata": {},
   "source": [
    "**2. torch.sub() and torch.subtract()**"
   ]
  },
  {
   "cell_type": "code",
   "execution_count": 13,
   "id": "62a97ae6",
   "metadata": {},
   "outputs": [
    {
     "data": {
      "text/plain": [
       "tensor([-9, -8, -7])"
      ]
     },
     "execution_count": 13,
     "metadata": {},
     "output_type": "execute_result"
    }
   ],
   "source": [
    "torch.sub(T, 10)"
   ]
  },
  {
   "cell_type": "code",
   "execution_count": 14,
   "id": "d1947b93",
   "metadata": {},
   "outputs": [
    {
     "data": {
      "text/plain": [
       "tensor([-9, -8, -7])"
      ]
     },
     "execution_count": 14,
     "metadata": {},
     "output_type": "execute_result"
    }
   ],
   "source": [
    "torch.subtract(T, 10)"
   ]
  },
  {
   "cell_type": "markdown",
   "id": "dcecf2bd",
   "metadata": {},
   "source": [
    "**3. torch.mul() and torch.multiply()**"
   ]
  },
  {
   "cell_type": "code",
   "execution_count": 16,
   "id": "6d845e35",
   "metadata": {},
   "outputs": [
    {
     "data": {
      "text/plain": [
       "tensor([10, 20, 30])"
      ]
     },
     "execution_count": 16,
     "metadata": {},
     "output_type": "execute_result"
    }
   ],
   "source": [
    "torch.mul(T, 10)"
   ]
  },
  {
   "cell_type": "code",
   "execution_count": 17,
   "id": "4349295b",
   "metadata": {},
   "outputs": [
    {
     "data": {
      "text/plain": [
       "tensor([10, 20, 30])"
      ]
     },
     "execution_count": 17,
     "metadata": {},
     "output_type": "execute_result"
    }
   ],
   "source": [
    "torch.multiply(T, 10)"
   ]
  },
  {
   "cell_type": "markdown",
   "id": "dd41cce3",
   "metadata": {},
   "source": [
    "**4. torch.div() and torch.divide()**"
   ]
  },
  {
   "cell_type": "code",
   "execution_count": 18,
   "id": "51abbda8",
   "metadata": {},
   "outputs": [
    {
     "data": {
      "text/plain": [
       "tensor([0.1000, 0.2000, 0.3000])"
      ]
     },
     "execution_count": 18,
     "metadata": {},
     "output_type": "execute_result"
    }
   ],
   "source": [
    "torch.div(T, 10)"
   ]
  },
  {
   "cell_type": "code",
   "execution_count": 19,
   "id": "bc81798e",
   "metadata": {},
   "outputs": [
    {
     "data": {
      "text/plain": [
       "tensor([0.1000, 0.2000, 0.3000])"
      ]
     },
     "execution_count": 19,
     "metadata": {},
     "output_type": "execute_result"
    }
   ],
   "source": [
    "torch.divide(T, 10)"
   ]
  },
  {
   "cell_type": "markdown",
   "id": "f8de1de7",
   "metadata": {},
   "source": [
    "**5. Matrix Multiplication**"
   ]
  },
  {
   "cell_type": "markdown",
   "id": "74875fa9",
   "metadata": {},
   "source": [
    "The main two rules for matrix multiplication to remember are:\n",
    "\n",
    "The **inner dimensions** must match:\n",
    "- ```(3, 2) @ (3, 2)``` won't work\n",
    "- ```(2, 3) @ (3, 2)``` will work\n",
    "- ```(3, 2) @ (2, 3)``` will work\n",
    "\n",
    "The resulting matrix has the shape of the **outer dimensions**:\n",
    "- ```(2, 3) @ (3, 2)``` -> (2, 2)\n",
    "- ```(3, 2) @ (2, 3)``` -> (3, 3)"
   ]
  },
  {
   "cell_type": "code",
   "execution_count": 20,
   "id": "737c2245",
   "metadata": {},
   "outputs": [
    {
     "data": {
      "text/plain": [
       "tensor([1, 2, 3])"
      ]
     },
     "execution_count": 20,
     "metadata": {},
     "output_type": "execute_result"
    }
   ],
   "source": [
    "T"
   ]
  },
  {
   "cell_type": "code",
   "execution_count": 21,
   "id": "f4db7036",
   "metadata": {},
   "outputs": [
    {
     "data": {
      "text/plain": [
       "tensor(14)"
      ]
     },
     "execution_count": 21,
     "metadata": {},
     "output_type": "execute_result"
    }
   ],
   "source": [
    "torch.matmul(T, T)"
   ]
  },
  {
   "cell_type": "code",
   "execution_count": 24,
   "id": "60d0385a",
   "metadata": {},
   "outputs": [
    {
     "name": "stdout",
     "output_type": "stream",
     "text": [
      "tensor(14)\n",
      "CPU times: total: 0 ns\n",
      "Wall time: 11 ms\n"
     ]
    }
   ],
   "source": [
    "%%time\n",
    "value = 0\n",
    "for i in range(len(T)):\n",
    "    value += T[i]*T[i]\n",
    "print(value)"
   ]
  },
  {
   "cell_type": "code",
   "execution_count": 25,
   "id": "ae0a5d73",
   "metadata": {},
   "outputs": [
    {
     "name": "stdout",
     "output_type": "stream",
     "text": [
      "tensor(14)\n",
      "CPU times: total: 0 ns\n",
      "Wall time: 1 ms\n"
     ]
    }
   ],
   "source": [
    "%%time\n",
    "print(torch.matmul(T, T))"
   ]
  },
  {
   "cell_type": "markdown",
   "id": "66a98dc3",
   "metadata": {},
   "source": [
    "**```torch.matmul()```** is much much faster than normal loop based matrix calculation"
   ]
  },
  {
   "cell_type": "code",
   "execution_count": 35,
   "id": "52562803",
   "metadata": {},
   "outputs": [
    {
     "name": "stdout",
     "output_type": "stream",
     "text": [
      "CPU times: total: 0 ns\n",
      "Wall time: 0 ns\n"
     ]
    },
    {
     "data": {
      "text/plain": [
       "tensor(14)"
      ]
     },
     "execution_count": 35,
     "metadata": {},
     "output_type": "execute_result"
    }
   ],
   "source": [
    "%%time\n",
    "T @ T"
   ]
  },
  {
   "cell_type": "markdown",
   "id": "c4459aea",
   "metadata": {},
   "source": [
    "**`@`** is same as **```torch.matmul()```**"
   ]
  },
  {
   "cell_type": "markdown",
   "id": "79697742",
   "metadata": {},
   "source": [
    "### One of the most common errors in deep learning (shape errors)\n"
   ]
  },
  {
   "cell_type": "code",
   "execution_count": 37,
   "id": "4ec60383",
   "metadata": {
    "scrolled": true
   },
   "outputs": [
    {
     "ename": "RuntimeError",
     "evalue": "mat1 and mat2 shapes cannot be multiplied (3x2 and 3x2)",
     "output_type": "error",
     "traceback": [
      "\u001b[1;31m---------------------------------------------------------------------------\u001b[0m",
      "\u001b[1;31mRuntimeError\u001b[0m                              Traceback (most recent call last)",
      "Cell \u001b[1;32mIn[37], line 10\u001b[0m\n\u001b[0;32m      2\u001b[0m tensor_A \u001b[38;5;241m=\u001b[39m torch\u001b[38;5;241m.\u001b[39mtensor([[\u001b[38;5;241m1\u001b[39m, \u001b[38;5;241m2\u001b[39m],\n\u001b[0;32m      3\u001b[0m                          [\u001b[38;5;241m3\u001b[39m, \u001b[38;5;241m4\u001b[39m],\n\u001b[0;32m      4\u001b[0m                          [\u001b[38;5;241m5\u001b[39m, \u001b[38;5;241m6\u001b[39m]], dtype\u001b[38;5;241m=\u001b[39mtorch\u001b[38;5;241m.\u001b[39mfloat32)\n\u001b[0;32m      6\u001b[0m tensor_B \u001b[38;5;241m=\u001b[39m torch\u001b[38;5;241m.\u001b[39mtensor([[\u001b[38;5;241m7\u001b[39m, \u001b[38;5;241m10\u001b[39m],\n\u001b[0;32m      7\u001b[0m                          [\u001b[38;5;241m8\u001b[39m, \u001b[38;5;241m11\u001b[39m], \n\u001b[0;32m      8\u001b[0m                          [\u001b[38;5;241m9\u001b[39m, \u001b[38;5;241m12\u001b[39m]], dtype\u001b[38;5;241m=\u001b[39mtorch\u001b[38;5;241m.\u001b[39mfloat32)\n\u001b[1;32m---> 10\u001b[0m \u001b[43mtorch\u001b[49m\u001b[38;5;241;43m.\u001b[39;49m\u001b[43mmatmul\u001b[49m\u001b[43m(\u001b[49m\u001b[43mtensor_A\u001b[49m\u001b[43m,\u001b[49m\u001b[43m \u001b[49m\u001b[43mtensor_B\u001b[49m\u001b[43m)\u001b[49m \u001b[38;5;66;03m# (this will error)\u001b[39;00m\n",
      "\u001b[1;31mRuntimeError\u001b[0m: mat1 and mat2 shapes cannot be multiplied (3x2 and 3x2)"
     ]
    }
   ],
   "source": [
    "# Shapes need to be in the right way  \n",
    "tensor_A = torch.tensor([[1, 2],\n",
    "                         [3, 4],\n",
    "                         [5, 6]], dtype=torch.float32)\n",
    "\n",
    "tensor_B = torch.tensor([[7, 10],\n",
    "                         [8, 11], \n",
    "                         [9, 12]], dtype=torch.float32)\n",
    "\n",
    "torch.matmul(tensor_A, tensor_B) # (this will error)"
   ]
  },
  {
   "cell_type": "markdown",
   "id": "9d39944a",
   "metadata": {},
   "source": [
    "One of the ways to do this is with a **transpose** (switch the dimensions of a given tensor).\n",
    "- `torch.transpose(input, dim0, dim1)` - where `input` is the desired tensor to transpose and `dim0 and dim1` are the dimensions to be swapped.\n",
    "\n",
    "- `tensor.T` - where tensor is the desired tensor to transpose."
   ]
  },
  {
   "cell_type": "code",
   "execution_count": 41,
   "id": "2229049b",
   "metadata": {},
   "outputs": [
    {
     "name": "stdout",
     "output_type": "stream",
     "text": [
      "tensor([[1., 2.],\n",
      "        [3., 4.],\n",
      "        [5., 6.]])\n",
      "tensor([[ 7., 10.],\n",
      "        [ 8., 11.],\n",
      "        [ 9., 12.]])\n",
      "shapes are torch.Size([3, 2]) torch.Size([3, 2])\n"
     ]
    }
   ],
   "source": [
    "print(tensor_A)\n",
    "print(tensor_B)\n",
    "print('shapes are', tensor_A.shape, tensor_B.shape)"
   ]
  },
  {
   "cell_type": "code",
   "execution_count": 42,
   "id": "2212337e",
   "metadata": {},
   "outputs": [
    {
     "name": "stdout",
     "output_type": "stream",
     "text": [
      "tensor([[1., 2.],\n",
      "        [3., 4.],\n",
      "        [5., 6.]])\n",
      "tensor([[ 7.,  8.,  9.],\n",
      "        [10., 11., 12.]])\n",
      "shapes are torch.Size([3, 2]) torch.Size([3, 2])\n"
     ]
    }
   ],
   "source": [
    "print(tensor_A)\n",
    "print(tensor_B.T)\n",
    "print('shapes are', tensor_A.shape, tensor_B.shape)"
   ]
  },
  {
   "cell_type": "code",
   "execution_count": 43,
   "id": "d8c1ccbd",
   "metadata": {},
   "outputs": [
    {
     "data": {
      "text/plain": [
       "tensor([[ 27.,  30.,  33.],\n",
       "        [ 61.,  68.,  75.],\n",
       "        [ 95., 106., 117.]])"
      ]
     },
     "execution_count": 43,
     "metadata": {},
     "output_type": "execute_result"
    }
   ],
   "source": [
    "torch.matmul(tensor_A, tensor_B.T) # (this will work)"
   ]
  },
  {
   "cell_type": "code",
   "execution_count": 44,
   "id": "0ba3f3e2",
   "metadata": {},
   "outputs": [
    {
     "data": {
      "text/plain": [
       "tensor([[ 76., 103.],\n",
       "        [100., 136.]])"
      ]
     },
     "execution_count": 44,
     "metadata": {},
     "output_type": "execute_result"
    }
   ],
   "source": [
    "torch.matmul(tensor_A.T, tensor_B) # (this will work)"
   ]
  },
  {
   "cell_type": "markdown",
   "id": "d692bc36",
   "metadata": {},
   "source": [
    "You can also use `torch.mm()` which is a short for `torch.matmul()`."
   ]
  },
  {
   "cell_type": "code",
   "execution_count": 45,
   "id": "ef3b2784",
   "metadata": {},
   "outputs": [
    {
     "data": {
      "text/plain": [
       "tensor([[ 76., 103.],\n",
       "        [100., 136.]])"
      ]
     },
     "execution_count": 45,
     "metadata": {},
     "output_type": "execute_result"
    }
   ],
   "source": [
    "torch.mm(tensor_A.T, tensor_B) # (this will work)"
   ]
  },
  {
   "cell_type": "markdown",
   "id": "8a059c37",
   "metadata": {},
   "source": [
    "Neural networks are full of matrix multiplications and dot products.\n",
    "\n",
    "The `torch.nn.Linear()` module (we'll see this in action later on), also known as a feed-forward layer or fully connected layer, implements a matrix multiplication between an input `x` and a weights matrix `A`.\n",
    "\n",
    "y = x **⋅** A <sup>T</sup> + b\n",
    "\n",
    "Where:\n",
    "\n",
    "- **x** is the input to the layer (deep learning is a stack of layers like **torch.nn.Linear()** and others on top of each other).\n",
    "\n",
    "- **A** is the weights matrix created by the layer, this starts out as random numbers that get adjusted as a neural network learns to better represent patterns in the data (notice the **\"T\"**, that's because the weights matrix gets transposed).\n",
    "\n",
    "\t- **Note**: You might also often see **W** or another letter like **X** used to showcase the weights matrix.\n",
    "\n",
    "- **b** is the bias term used to slightly offset the weights and inputs.\n",
    "\n",
    "- **y** is the output (a manipulation of the input in the hopes to discover patterns in it).\n",
    "\n",
    "This is a linear function (you may have seen something like `y=mx+b` in high school or elsewhere), and can be used to draw a straight line!"
   ]
  },
  {
   "cell_type": "code",
   "execution_count": 54,
   "id": "15957461",
   "metadata": {
    "scrolled": true
   },
   "outputs": [
    {
     "name": "stdout",
     "output_type": "stream",
     "text": [
      "Input shape: torch.Size([3, 2])\n",
      "\n",
      "Output:\n",
      "tensor([[2.2368, 1.2292, 0.4714, 0.3864, 0.1309, 0.9838],\n",
      "        [4.4919, 2.1970, 0.4469, 0.5285, 0.3401, 2.4777],\n",
      "        [6.7469, 3.1648, 0.4224, 0.6705, 0.5493, 3.9716]],\n",
      "       grad_fn=<AddmmBackward0>)\n",
      "\n",
      "Output shape: torch.Size([3, 6])\n"
     ]
    }
   ],
   "source": [
    "# Since the linear layer starts with a random weights matrix, let's make it reproducible (more on this later)\n",
    "torch.manual_seed(42)\n",
    "\n",
    "# This uses matrix multiplication\n",
    "linear = torch.nn.Linear(in_features=2, # in_features = matches inner dimension of input \n",
    "                         out_features=6) # out_features = describes outer value \n",
    "x = tensor_A\n",
    "output = linear(x)\n",
    "print(f\"Input shape: {x.shape}\\n\")\n",
    "print(f\"Output:\\n{output}\\n\\nOutput shape: {output.shape}\")"
   ]
  }
 ],
 "metadata": {
  "kernelspec": {
   "display_name": "Python 3 (ipykernel)",
   "language": "python",
   "name": "python3"
  },
  "language_info": {
   "codemirror_mode": {
    "name": "ipython",
    "version": 3
   },
   "file_extension": ".py",
   "mimetype": "text/x-python",
   "name": "python",
   "nbconvert_exporter": "python",
   "pygments_lexer": "ipython3",
   "version": "3.11.3"
  }
 },
 "nbformat": 4,
 "nbformat_minor": 5
}
