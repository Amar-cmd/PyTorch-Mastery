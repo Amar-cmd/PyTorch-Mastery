{
 "cells": [
  {
   "cell_type": "markdown",
   "id": "ab71303d",
   "metadata": {},
   "source": [
    "![title](https://th.bing.com/th/id/OIP.ri4aG5v3o264bCjLF4hZ9gHaBe?rs=1&pid=ImgDetMain)"
   ]
  },
  {
   "cell_type": "markdown",
   "id": "3cd7c431",
   "metadata": {},
   "source": [
    "## Introduction to tensors\n",
    "\n",
    "- Tensors are the fundamental building block of machine learning. Their job is to represent data in a numerical way.\n",
    "\n",
    "- A ```torch.Tensor``` is a multi-dimensional matrix containing elements of a single data type.\n",
    "\n"
   ]
  },
  {
   "cell_type": "code",
   "execution_count": 6,
   "id": "a85c33bb",
   "metadata": {},
   "outputs": [],
   "source": [
    "# importing torch\n",
    "import torch"
   ]
  },
  {
   "cell_type": "code",
   "execution_count": 8,
   "id": "2d7ab371",
   "metadata": {},
   "outputs": [
    {
     "name": "stdout",
     "output_type": "stream",
     "text": [
      "2.1.0+cu118\n"
     ]
    }
   ],
   "source": [
    "# checking pytorch version\n",
    "print(torch.__version__)"
   ]
  },
  {
   "cell_type": "markdown",
   "id": "72251426",
   "metadata": {},
   "source": [
    " ### Scalar\n",
    " - A scalar is a single number and in tensor-speak it's a zero dimension tensor."
   ]
  },
  {
   "cell_type": "code",
   "execution_count": 4,
   "id": "1644ab21",
   "metadata": {},
   "outputs": [
    {
     "name": "stdout",
     "output_type": "stream",
     "text": [
      "tensor(5)\n"
     ]
    }
   ],
   "source": [
    "# scalar\n",
    "scalar = torch.tensor(5)\n",
    "print(scalar)"
   ]
  },
  {
   "cell_type": "markdown",
   "id": "a00c9b42",
   "metadata": {},
   "source": [
    "```tensor(5) ``` means although scalar is a single number, it's of type ```torch.Tensor```."
   ]
  },
  {
   "cell_type": "markdown",
   "id": "c8e48da7",
   "metadata": {},
   "source": [
    "### ndim\n",
    "We can check the dimensions of a tensor using the ```ndim attribute```.\n"
   ]
  },
  {
   "cell_type": "code",
   "execution_count": 7,
   "id": "8a820803",
   "metadata": {},
   "outputs": [
    {
     "data": {
      "text/plain": [
       "0"
      ]
     },
     "execution_count": 7,
     "metadata": {},
     "output_type": "execute_result"
    }
   ],
   "source": [
    "scalar.ndim"
   ]
  },
  {
   "cell_type": "markdown",
   "id": "eddff014",
   "metadata": {},
   "source": [
    "### scalar.item()\n",
    "```scalar.item()``` converts tensor back to integer **(only works with one-element tensors).**"
   ]
  },
  {
   "cell_type": "code",
   "execution_count": 10,
   "id": "b5a326b9",
   "metadata": {},
   "outputs": [
    {
     "data": {
      "text/plain": [
       "5"
      ]
     },
     "execution_count": 10,
     "metadata": {},
     "output_type": "execute_result"
    }
   ],
   "source": [
    "scalar.item()"
   ]
  },
  {
   "cell_type": "markdown",
   "id": "1ff4dd61",
   "metadata": {},
   "source": [
    "## Vector\n",
    "- A vector is a single dimension tensor but can contain many numbers.\n",
    "- Eg: a vector ```[3, 2]``` to describe ```[bedrooms, bathrooms]```"
   ]
  },
  {
   "cell_type": "code",
   "execution_count": 11,
   "id": "76112390",
   "metadata": {},
   "outputs": [
    {
     "data": {
      "text/plain": [
       "tensor([3, 2])"
      ]
     },
     "execution_count": 11,
     "metadata": {},
     "output_type": "execute_result"
    }
   ],
   "source": [
    "vector = torch.tensor([3,2])\n",
    "vector"
   ]
  },
  {
   "cell_type": "code",
   "execution_count": 12,
   "id": "da6f658f",
   "metadata": {},
   "outputs": [
    {
     "data": {
      "text/plain": [
       "torch.Size([2])"
      ]
     },
     "execution_count": 12,
     "metadata": {},
     "output_type": "execute_result"
    }
   ],
   "source": [
    "vector.shape"
   ]
  },
  {
   "cell_type": "markdown",
   "id": "4b9f1e3c",
   "metadata": {},
   "source": [
    "```torch.Size([2])``` which means our vector has a shape of ```[2]```. This is because of the two elements we placed inside the square brackets ```([7, 7])```."
   ]
  },
  {
   "cell_type": "code",
   "execution_count": 13,
   "id": "e7b7512e",
   "metadata": {},
   "outputs": [
    {
     "data": {
      "text/plain": [
       "1"
      ]
     },
     "execution_count": 13,
     "metadata": {},
     "output_type": "execute_result"
    }
   ],
   "source": [
    "vector.ndim"
   ]
  },
  {
   "cell_type": "markdown",
   "id": "c22c9ba9",
   "metadata": {},
   "source": [
    "Dimensionality is 1 means it is 1-d vector or it has **one-pair of [] (square bracket).** "
   ]
  },
  {
   "cell_type": "markdown",
   "id": "9c6e8673",
   "metadata": {},
   "source": [
    "## MATRIX"
   ]
  },
  {
   "cell_type": "code",
   "execution_count": 16,
   "id": "e274963f",
   "metadata": {},
   "outputs": [
    {
     "data": {
      "text/plain": [
       "tensor([[3, 2],\n",
       "        [4, 5]])"
      ]
     },
     "execution_count": 16,
     "metadata": {},
     "output_type": "execute_result"
    }
   ],
   "source": [
    "MATRIX = torch.tensor([[3,2],[4,5]])\n",
    "MATRIX"
   ]
  },
  {
   "cell_type": "code",
   "execution_count": 17,
   "id": "8a0e89fa",
   "metadata": {},
   "outputs": [
    {
     "data": {
      "text/plain": [
       "torch.Size([2, 2])"
      ]
     },
     "execution_count": 17,
     "metadata": {},
     "output_type": "execute_result"
    }
   ],
   "source": [
    "MATRIX.shape"
   ]
  },
  {
   "cell_type": "markdown",
   "id": "fd585882",
   "metadata": {},
   "source": [
    "```torch.Size([2, 2])``` means that the matrix is of shape ```2x2```"
   ]
  },
  {
   "cell_type": "code",
   "execution_count": 18,
   "id": "b865e71e",
   "metadata": {},
   "outputs": [
    {
     "data": {
      "text/plain": [
       "2"
      ]
     },
     "execution_count": 18,
     "metadata": {},
     "output_type": "execute_result"
    }
   ],
   "source": [
    "MATRIX.ndim"
   ]
  },
  {
   "cell_type": "markdown",
   "id": "472d8307",
   "metadata": {},
   "source": [
    "Dimension is ```2``` as it has 2 pairs of square brackets."
   ]
  },
  {
   "cell_type": "markdown",
   "id": "f15708c9",
   "metadata": {},
   "source": [
    "### Getting First Row"
   ]
  },
  {
   "cell_type": "code",
   "execution_count": 20,
   "id": "006a7f28",
   "metadata": {},
   "outputs": [
    {
     "data": {
      "text/plain": [
       "tensor([3, 2])"
      ]
     },
     "execution_count": 20,
     "metadata": {},
     "output_type": "execute_result"
    }
   ],
   "source": [
    "MATRIX[0]"
   ]
  },
  {
   "cell_type": "markdown",
   "id": "8fadd9c9",
   "metadata": {},
   "source": [
    "### Getting Second Row"
   ]
  },
  {
   "cell_type": "code",
   "execution_count": 21,
   "id": "7a260b37",
   "metadata": {},
   "outputs": [
    {
     "data": {
      "text/plain": [
       "tensor([4, 5])"
      ]
     },
     "execution_count": 21,
     "metadata": {},
     "output_type": "execute_result"
    }
   ],
   "source": [
    "MATRIX[1]"
   ]
  },
  {
   "cell_type": "markdown",
   "id": "7070b45d",
   "metadata": {},
   "source": [
    "### Getting First Column"
   ]
  },
  {
   "cell_type": "code",
   "execution_count": 25,
   "id": "98a077cb",
   "metadata": {},
   "outputs": [
    {
     "data": {
      "text/plain": [
       "tensor([3, 4])"
      ]
     },
     "execution_count": 25,
     "metadata": {},
     "output_type": "execute_result"
    }
   ],
   "source": [
    "MATRIX[:,0]"
   ]
  },
  {
   "cell_type": "markdown",
   "id": "27c10ac4",
   "metadata": {},
   "source": [
    "### Getting Second Column"
   ]
  },
  {
   "cell_type": "code",
   "execution_count": 22,
   "id": "702794a0",
   "metadata": {},
   "outputs": [
    {
     "data": {
      "text/plain": [
       "tensor([2, 5])"
      ]
     },
     "execution_count": 22,
     "metadata": {},
     "output_type": "execute_result"
    }
   ],
   "source": [
    "MATRIX[:,1]"
   ]
  },
  {
   "cell_type": "markdown",
   "id": "68cc064d",
   "metadata": {},
   "source": [
    "## Tensor"
   ]
  },
  {
   "cell_type": "code",
   "execution_count": 28,
   "id": "9dabd2fe",
   "metadata": {},
   "outputs": [
    {
     "data": {
      "text/plain": [
       "tensor([[[1, 2, 3, 4],\n",
       "         [3, 6, 9, 5],\n",
       "         [2, 4, 5, 7]]])"
      ]
     },
     "execution_count": 28,
     "metadata": {},
     "output_type": "execute_result"
    }
   ],
   "source": [
    "# Tensor\n",
    "TENSOR = torch.tensor([[[1, 2, 3, 4],\n",
    "                        [3, 6, 9, 5],\n",
    "                        [2, 4, 5, 7]]])\n",
    "TENSOR"
   ]
  },
  {
   "cell_type": "code",
   "execution_count": 30,
   "id": "8310590a",
   "metadata": {},
   "outputs": [
    {
     "data": {
      "text/plain": [
       "3"
      ]
     },
     "execution_count": 30,
     "metadata": {},
     "output_type": "execute_result"
    }
   ],
   "source": [
    "TENSOR.ndim"
   ]
  },
  {
   "cell_type": "code",
   "execution_count": 46,
   "id": "3001b034",
   "metadata": {},
   "outputs": [
    {
     "data": {
      "text/plain": [
       "torch.Size([1, 3, 4])"
      ]
     },
     "execution_count": 46,
     "metadata": {},
     "output_type": "execute_result"
    }
   ],
   "source": [
    "TENSOR.shape"
   ]
  },
  {
   "cell_type": "markdown",
   "id": "62a461a9",
   "metadata": {},
   "source": [
    "<img src=\"https://raw.githubusercontent.com/mrdbourke/pytorch-deep-learning/main/images/00-pytorch-different-tensor-dimensions.png\" alt=\"title\" width=\"600px\" />\n"
   ]
  },
  {
   "cell_type": "code",
   "execution_count": 31,
   "id": "3dbb832e",
   "metadata": {},
   "outputs": [
    {
     "data": {
      "text/plain": [
       "tensor([[2, 6, 4]])"
      ]
     },
     "execution_count": 31,
     "metadata": {},
     "output_type": "execute_result"
    }
   ],
   "source": [
    "# Grabbing specific column\n",
    "TENSOR[:,:,1]"
   ]
  },
  {
   "cell_type": "code",
   "execution_count": 39,
   "id": "ce1c4d40",
   "metadata": {},
   "outputs": [
    {
     "data": {
      "text/plain": [
       "tensor(7)"
      ]
     },
     "execution_count": 39,
     "metadata": {},
     "output_type": "execute_result"
    }
   ],
   "source": [
    "# Grabbing specific element\n",
    "TENSOR[0,2,3]"
   ]
  },
  {
   "cell_type": "code",
   "execution_count": 44,
   "id": "1e491cfa",
   "metadata": {},
   "outputs": [
    {
     "data": {
      "text/plain": [
       "tensor([[6, 9],\n",
       "        [4, 5]])"
      ]
     },
     "execution_count": 44,
     "metadata": {},
     "output_type": "execute_result"
    }
   ],
   "source": [
    "# Grabbing tensor subset\n",
    "TENSOR[0,1:,1:3]"
   ]
  },
  {
   "cell_type": "markdown",
   "id": "0bda6214",
   "metadata": {},
   "source": [
    "# In summary\n",
    "<img src=\"https://raw.githubusercontent.com/mrdbourke/pytorch-deep-learning/main/images/00-scalar-vector-matrix-tensor.png\" alt=\"title\" width=\"400px\" style=\"display: block; margin: auto;\"/>\n"
   ]
  }
 ],
 "metadata": {
  "kernelspec": {
   "display_name": "Python 3 (ipykernel)",
   "language": "python",
   "name": "python3"
  },
  "language_info": {
   "codemirror_mode": {
    "name": "ipython",
    "version": 3
   },
   "file_extension": ".py",
   "mimetype": "text/x-python",
   "name": "python",
   "nbconvert_exporter": "python",
   "pygments_lexer": "ipython3",
   "version": "3.11.3"
  }
 },
 "nbformat": 4,
 "nbformat_minor": 5
}
